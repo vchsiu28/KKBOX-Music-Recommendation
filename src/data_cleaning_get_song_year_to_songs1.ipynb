{
 "cells": [
  {
   "cell_type": "code",
   "execution_count": 1,
   "metadata": {
    "collapsed": true
   },
   "outputs": [],
   "source": [
    "import pandas as pd\n",
    "import numpy as np"
   ]
  },
  {
   "cell_type": "code",
   "execution_count": 2,
   "metadata": {
    "collapsed": true
   },
   "outputs": [],
   "source": [
    "def convert_to_year(x):\n",
    "    val = int(x)\n",
    "    if val >= 19:\n",
    "        return 1900 + val\n",
    "    else:\n",
    "        return 2000 + val"
   ]
  },
  {
   "cell_type": "code",
   "execution_count": 3,
   "metadata": {},
   "outputs": [],
   "source": [
    "data_path = '../data/'\n",
    "songs = pd.read_csv(data_path + 'songs.csv')\n",
    "songs_extra = pd.read_csv(data_path + 'song_extra_info.csv')\n",
    "song_cols = ['song_id', 'artist_name', 'genre_ids', 'song_length', 'language']\n",
    "song_extra_cols = ['song_id', 'song_name', 'isrc']\n",
    "songs_extra['song_country'] = songs_extra['isrc'].apply(lambda x: -1 if x == -1 or x == '' or pd.isnull(x) else str(x)[:2])\n",
    "songs_extra['song_year'] = songs_extra['isrc'].apply(lambda x: -1 if x == -1 or x == '' or pd.isnull(x)\\\n",
    "                                                         else int(convert_to_year(x[5:7])))\n",
    "songs1 = songs.merge(songs_extra[songs_extra.columns], on='song_id', how='left')\n",
    "\n",
    "train = pd.read_csv(data_path + 'train.csv')\n",
    "test = pd.read_csv(data_path + 'test.csv')\n",
    "members = pd.read_csv(data_path + 'members.csv')\n",
    "\n",
    "train = train.merge(songs1[songs1.columns], on='song_id', how='left')\n",
    "test = test.merge(songs1[songs1.columns], on='song_id', how='left')"
   ]
  },
  {
   "cell_type": "markdown",
   "metadata": {
    "collapsed": true
   },
   "source": [
    "## artist_year : \n",
    "### given a artist, return the earlist year of their songs.\n",
    "\n",
    "## non_artists:\n",
    "### key is the artists whose all songs are incorrect.\n",
    "### given a artist, return how many user listen to their songs\n",
    "\n",
    "## user_artists:\n",
    "### given a user, return the artists this user listen to\n",
    "\n",
    "## user_song_years\n",
    "### given a user, return the average year of songs this user listen to"
   ]
  },
  {
   "cell_type": "code",
   "execution_count": 5,
   "metadata": {},
   "outputs": [],
   "source": [
    "artist_year = {}\n",
    "#given a artist, return the earlist year of their songs.\n",
    "for song, artist, year in zip(songs1['song_name'], songs1['artist_name'], songs1['song_year']):\n",
    "    if year >= 1960:\n",
    "        artist_year[artist] = min(year, artist_year.get(artist, 3000))"
   ]
  },
  {
   "cell_type": "code",
   "execution_count": 6,
   "metadata": {
    "collapsed": true
   },
   "outputs": [],
   "source": [
    "non_artists = {}\n",
    "#key is the artists whose all songs are incorrect.\n",
    "#given a artist, return how many user listen to their songs\n",
    "user_artists = {}\n",
    "#given a user, return the artists this user listen to\n",
    "for uid, artist, year in zip(train['msno'], songs1['artist_name'], songs1['song_year']):\n",
    "    if uid not in user_artists:\n",
    "        user_artists[uid] = set([])\n",
    "    user_artists[uid].add(artist)\n",
    "    if year < 1960:\n",
    "        predict_year = artist_year.get(artist, 3000)\n",
    "        if predict_year == 3000:\n",
    "            if artist not in non_artists:\n",
    "                non_artists[artist] = {}\n",
    "            non_artists[artist][uid] = non_artists[artist].get(uid, 0) + 1"
   ]
  },
  {
   "cell_type": "code",
   "execution_count": 7,
   "metadata": {
    "collapsed": true
   },
   "outputs": [],
   "source": [
    "user_song_years = {}\n",
    "#given a user, return the average year of songs this user listen to\n",
    "for uid in user_artists:\n",
    "    res = []\n",
    "    for artist in user_artists[uid]:\n",
    "        if artist in artist_year and\\\n",
    "                    artist_year[artist] != 3000:\n",
    "            res +=  artist_year[artist],\n",
    "    user_song_years[uid] = np.mean(res) if len(res) > 0 else 0"
   ]
  },
  {
   "cell_type": "code",
   "execution_count": 8,
   "metadata": {
    "collapsed": true
   },
   "outputs": [],
   "source": [
    "for artist in non_artists:\n",
    "    res = []\n",
    "    for uid in non_artists[artist]:\n",
    "        if user_song_years[uid] > 0:\n",
    "            res += user_song_years[uid],\n",
    "    artist_year[artist] = np.mean(res) if len(res) > 0 else 0"
   ]
  },
  {
   "cell_type": "code",
   "execution_count": 9,
   "metadata": {
    "collapsed": true
   },
   "outputs": [],
   "source": [
    "songs_cols = ['song_id', 'artist_name', 'genre_ids', 'song_length', 'language']"
   ]
  },
  {
   "cell_type": "code",
   "execution_count": 10,
   "metadata": {},
   "outputs": [
    {
     "name": "stdout",
     "output_type": "stream",
     "text": [
      "ok\n"
     ]
    }
   ],
   "source": [
    "songs_info = songs_extra.merge(songs[songs.columns], on='song_id', how='left')\n",
    "print 'ok'"
   ]
  },
  {
   "cell_type": "code",
   "execution_count": 11,
   "metadata": {},
   "outputs": [
    {
     "name": "stdout",
     "output_type": "stream",
     "text": [
      "song_id\n",
      "song_length\n",
      "genre_ids\n",
      "artist_name\n",
      "composer\n",
      "lyricist\n",
      "language\n",
      "song_name\n",
      "isrc\n",
      "song_country\n",
      "song_year\n"
     ]
    }
   ],
   "source": [
    "for x in list(songs1):\n",
    "    print x"
   ]
  },
  {
   "cell_type": "code",
   "execution_count": 12,
   "metadata": {
    "collapsed": true
   },
   "outputs": [],
   "source": [
    "years = []\n",
    "for artist, year in zip(songs1['artist_name'], songs1['song_year']):\n",
    "    try:\n",
    "        year = int(year)\n",
    "    except:\n",
    "        if artist in artist_year:\n",
    "            years += int(artist_year[artist]),\n",
    "        else:\n",
    "            years += -1,\n",
    "        continue\n",
    "    if year >= 1960 and year <= 2018:\n",
    "        years += year,\n",
    "    else:     \n",
    "        years += int(artist_year[artist]),"
   ]
  },
  {
   "cell_type": "code",
   "execution_count": 13,
   "metadata": {
    "scrolled": false
   },
   "outputs": [
    {
     "name": "stdout",
     "output_type": "stream",
     "text": [
      "1960 12683\n",
      "1961 2999\n",
      "1962 2561\n",
      "1963 2147\n",
      "1964 3059\n",
      "1965 2109\n",
      "1966 2058\n",
      "1967 2543\n",
      "1968 2702\n",
      "1969 2479\n",
      "1970 2276\n",
      "1971 2878\n",
      "1972 3248\n",
      "1973 2548\n",
      "1974 2859\n",
      "1975 3534\n",
      "1976 3110\n",
      "1977 3305\n",
      "1978 3718\n",
      "1979 3712\n",
      "1980 3789\n",
      "1981 4434\n",
      "1982 4542\n",
      "1983 5199\n",
      "1984 5127\n",
      "1985 5392\n",
      "1986 5805\n",
      "1987 6791\n",
      "1988 15564\n",
      "1989 14095\n",
      "1990 15762\n",
      "1991 15126\n",
      "1992 16066\n",
      "1993 12566\n",
      "1994 14247\n",
      "1995 16783\n",
      "1996 18789\n",
      "1997 21583\n",
      "1998 58331\n",
      "1999 97907\n",
      "2000 48421\n",
      "2001 43309\n",
      "2002 37333\n",
      "2003 47730\n",
      "2004 59615\n",
      "2005 58123\n",
      "2006 65601\n",
      "2007 68766\n",
      "2008 83111\n",
      "2009 91534\n",
      "2010 114978\n",
      "2011 107109\n",
      "2012 132166\n",
      "2013 138168\n",
      "2014 214817\n",
      "2015 271397\n",
      "2016 255967\n",
      "2017 29972\n",
      "2018 3721\n",
      "-1 56\n"
     ]
    }
   ],
   "source": [
    "dict = {}\n",
    "for year in years:\n",
    "    dict[year] = dict.get(year, 0) + 1\n",
    "for x in dict:\n",
    "    print x, dict[x]"
   ]
  },
  {
   "cell_type": "code",
   "execution_count": 70,
   "metadata": {},
   "outputs": [
    {
     "name": "stdout",
     "output_type": "stream",
     "text": [
      "2296320 2296320\n"
     ]
    }
   ],
   "source": [
    "print len(songs1['song_year']), len(years)"
   ]
  },
  {
   "cell_type": "code",
   "execution_count": 72,
   "metadata": {
    "collapsed": true
   },
   "outputs": [],
   "source": [
    "songs1['song_year'] = years"
   ]
  },
  {
   "cell_type": "code",
   "execution_count": 73,
   "metadata": {
    "collapsed": true
   },
   "outputs": [],
   "source": [
    "songs1.to_csv(data_path + 'songs1.csv', sep=',', encoding='utf-8')"
   ]
  },
  {
   "cell_type": "code",
   "execution_count": 92,
   "metadata": {
    "collapsed": true
   },
   "outputs": [],
   "source": []
  },
  {
   "cell_type": "code",
   "execution_count": 77,
   "metadata": {
    "collapsed": true
   },
   "outputs": [],
   "source": [
    "songs1 =  pd.read_csv(data_path + 'songs1.csv')"
   ]
  },
  {
   "cell_type": "code",
   "execution_count": 78,
   "metadata": {},
   "outputs": [
    {
     "name": "stdout",
     "output_type": "stream",
     "text": [
      "id\n",
      "song_id\n",
      "song_length\n",
      "genre_ids\n",
      "artist_name\n",
      "composer\n",
      "lyricist\n",
      "language\n",
      "song_name\n",
      "isrc\n",
      "song_country\n",
      "song_year\n"
     ]
    }
   ],
   "source": [
    "for x in list(songs1):\n",
    "    print x"
   ]
  },
  {
   "cell_type": "code",
   "execution_count": 17,
   "metadata": {},
   "outputs": [
    {
     "name": "stdout",
     "output_type": "stream",
     "text": [
      "97252 6573\n"
     ]
    }
   ],
   "source": [
    "print len(non_song), len(non_artists)"
   ]
  },
  {
   "cell_type": "code",
   "execution_count": null,
   "metadata": {
    "collapsed": true
   },
   "outputs": [],
   "source": []
  }
 ],
 "metadata": {
  "anaconda-cloud": {},
  "kernelspec": {
   "display_name": "Python [conda env:py2]",
   "language": "python",
   "name": "conda-env-py2-py"
  },
  "language_info": {
   "codemirror_mode": {
    "name": "ipython",
    "version": 2
   },
   "file_extension": ".py",
   "mimetype": "text/x-python",
   "name": "python",
   "nbconvert_exporter": "python",
   "pygments_lexer": "ipython2",
   "version": "2.7.13"
  }
 },
 "nbformat": 4,
 "nbformat_minor": 2
}
