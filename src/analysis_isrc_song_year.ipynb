{
 "cells": [
  {
   "cell_type": "code",
   "execution_count": 1,
   "metadata": {
    "collapsed": true
   },
   "outputs": [],
   "source": [
    "import numpy as np\n",
    "import pandas as pd\n",
    "\n",
    "import pickle\n",
    "import matplotlib.pyplot as plt\n",
    "import matplotlib"
   ]
  },
  {
   "cell_type": "code",
   "execution_count": 5,
   "metadata": {},
   "outputs": [],
   "source": [
    "data_path = '../data/'\n",
    "train = pd.read_csv(data_path + 'train.csv')\n",
    "test = pd.read_csv(data_path + 'test.csv')\n",
    "songs = pd.read_csv(data_path + 'songs1.csv')\n",
    "\n",
    "song_cols = ['song_id', 'isrc']\n",
    "\n",
    "train = train.merge(songs[song_cols], on='song_id', how='left')\n",
    "test = test.merge(songs[song_cols], on='song_id', how='left')\n",
    "\n",
    "train = train.fillna(-1)\n",
    "test = test.fillna(-1)"
   ]
  },
  {
   "cell_type": "code",
   "execution_count": 22,
   "metadata": {},
   "outputs": [],
   "source": [
    "train['song_year'] = train['isrc'].apply\\\n",
    "            (lambda x: int(x[5:7]) if not pd.isnull(x) and x != -1 else -1)\n",
    "test['song_year'] = test['isrc'].apply\\\n",
    "            (lambda x: int(x[5:7]) if not pd.isnull(x) and x != -1 else -1)"
   ]
  },
  {
   "cell_type": "code",
   "execution_count": 100,
   "metadata": {
    "collapsed": true
   },
   "outputs": [],
   "source": [
    "def plot_bar(data1, data2, name):\n",
    "    fig, (ax1, ax2) =  plt.subplots(ncols=2, figsize=(8, 4), sharex='col', sharey='row')\n",
    "    ax1.bar(list(data1.keys()), data1.values(),\\\n",
    "            color='g', alpha=0.5, label='train_set')  \n",
    "    ax2.bar(list(data2.keys()), data2.values(), \\\n",
    "            color='r', alpha=0.5, label='test_set')\n",
    "    ax1.set_title(\"%s Train Set Histogram\" % (name))\n",
    "    ax2.set_title(\"%s Test SetHistogram\" % (name))\n",
    "    fig.text(0.5, 0, 'Year', ha='center')\n",
    "    fig.text(0, 0.5, 'Count', va='center', rotation='vertical')\n",
    "    fig.tight_layout()\n",
    "    plt.show()\n",
    "def get_strange_song_year(dict, data, col_name):\n",
    "    for key in data[col_name]:\n",
    "        if key == -1 or key <= 18 or key >= 60:\n",
    "            continue\n",
    "        dict[key] = dict.get(key, 0) + 1\n",
    "def get_song_year(dict, data, col_name):\n",
    "    for key in data[col_name]:\n",
    "        if key == -1:\n",
    "            continue\n",
    "        dict[key] = dict.get(key, 0) + 1\n",
    "def get_dict(col_name, train, test):\n",
    "    dict ={}\n",
    "    dict['test'], dict['train']  = {}, {}\n",
    "    get_song_year(dict['train'], train, col_name)\n",
    "    get_song_year(dict['test'], test, col_name)\n",
    "    return dict"
   ]
  },
  {
   "cell_type": "code",
   "execution_count": 101,
   "metadata": {
    "collapsed": true
   },
   "outputs": [],
   "source": [
    "# song_year_dict = get_dict('song_year', train, test)"
   ]
  },
  {
   "cell_type": "code",
   "execution_count": 102,
   "metadata": {},
   "outputs": [
    {
     "data": {
      "image/png": "[encoded data removed]",
      "text/plain": [
       "<matplotlib.figure.Figure at 0x132f22210>"
      ]
     },
     "metadata": {},
     "output_type": "display_data"
    },
    {
     "name": "stdout",
     "output_type": "stream",
     "text": [
      "None\n"
     ]
    }
   ],
   "source": [
    "print (plot_bar(song_year_dict['train'],\\\n",
    "                song_year_dict['test'],\\\n",
    "                'song_year'))"
   ]
  },
  {
   "cell_type": "code",
   "execution_count": 103,
   "metadata": {},
   "outputs": [
    {
     "data": {
      "image/png": "[encoded data removed]",
      "text/plain": [
       "<matplotlib.figure.Figure at 0x15208af90>"
      ]
     },
     "metadata": {},
     "output_type": "display_data"
    },
    {
     "name": "stdout",
     "output_type": "stream",
     "text": [
      "None\n"
     ]
    }
   ],
   "source": [
    "print (plot_bar({k: v for k, v in song_year_dict['train'].items() if k < 60 and k > 18},\\\n",
    "                {k: v for k, v in song_year_dict['test'].items() if k < 60 and k > 18},\\\n",
    "                'strange_song_year'))"
   ]
  },
  {
   "cell_type": "code",
   "execution_count": null,
   "metadata": {
    "collapsed": true
   },
   "outputs": [],
   "source": []
  }
 ],
 "metadata": {
  "anaconda-cloud": {},
  "kernelspec": {
   "display_name": "Python [conda env:py2]",
   "language": "python",
   "name": "conda-env-py2-py"
  },
  "language_info": {
   "codemirror_mode": {
    "name": "ipython",
    "version": 2
   },
   "file_extension": ".py",
   "mimetype": "text/x-python",
   "name": "python",
   "nbconvert_exporter": "python",
   "pygments_lexer": "ipython2",
   "version": "2.7.13"
  }
 },
 "nbformat": 4,
 "nbformat_minor": 2
}
