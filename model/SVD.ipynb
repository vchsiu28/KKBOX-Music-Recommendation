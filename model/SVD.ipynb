{
 "cells": [
  {
   "cell_type": "code",
   "execution_count": 1,
   "metadata": {
    "collapsed": true
   },
   "outputs": [],
   "source": [
    "import numpy as np\n",
    "import surprise\n",
    "import pandas as pd\n",
    "import pickle"
   ]
  },
  {
   "cell_type": "code",
   "execution_count": 2,
   "metadata": {},
   "outputs": [
    {
     "name": "stdout",
     "output_type": "stream",
     "text": [
      "Training Set Loaded\n"
     ]
    }
   ],
   "source": [
    "# train = pickle.load(open('../data/trainSet_SVD', 'r'))\n",
    "# print \"Training Set Loaded\"\n",
    "# val= pickle.load(open('../data/valSet_SVD', 'r'))\n",
    "# print(\"val Set Loaded\")\n",
    "train = pickle.load(open('../data/train_feature_myadding1_only', 'r'))\n",
    "print \"Training Set Loaded\""
   ]
  },
  {
   "cell_type": "code",
   "execution_count": 3,
   "metadata": {
    "collapsed": true
   },
   "outputs": [],
   "source": [
    "reader = surprise.Reader(rating_scale=(0,1))\n",
    "data = surprise.Dataset.load_from_df(train[['msno', 'song_id', 'target']].dropna(), reader)"
   ]
  },
  {
   "cell_type": "code",
   "execution_count": 4,
   "metadata": {
    "collapsed": true
   },
   "outputs": [],
   "source": [
    "trainset1 = data.build_full_trainset()\n",
    "trainset2 = surprise.Dataset.load_from_df(train[['msno', 'song_id', 'target']].dropna(), reader)\n",
    "trainset2.split(n_folds=2)"
   ]
  },
  {
   "cell_type": "code",
   "execution_count": null,
   "metadata": {
    "collapsed": true
   },
   "outputs": [],
   "source": [
    "# valSet = surprise.Dataset.load_from_df(train[['msno', 'song_id', 'target']].dropna(), reader)\n",
    "# valSet.split(n_folds=2)"
   ]
  },
  {
   "cell_type": "code",
   "execution_count": null,
   "metadata": {
    "collapsed": true
   },
   "outputs": [],
   "source": [
    "# algo = surprise.SVD(n_factors=5)\n",
    "# algo.train(trainSet)\n",
    "# print(\"Done Training\")\n",
    "# perf = surprise.evaluate(algo, valSet, measures=['fcp'])\n",
    "# Mean FCP : 0.5862"
   ]
  },
  {
   "cell_type": "code",
   "execution_count": null,
   "metadata": {
    "collapsed": true
   },
   "outputs": [],
   "source": [
    "# algo = surprise.SVD(n_factors=10)\n",
    "# algo.train(trainSet)\n",
    "# print(\"Done Training\")\n",
    "# perf = surprise.evaluate(algo, valSet, measures=['fcp'])\n",
    "# Mean FCP : 0.5862"
   ]
  },
  {
   "cell_type": "code",
   "execution_count": null,
   "metadata": {
    "collapsed": true
   },
   "outputs": [],
   "source": [
    "# algo = surprise.SVD(n_factors=20)\n",
    "# algo.train(trainset)\n",
    "# print(\"Done Training\")\n",
    "# perf = surprise.evaluate(algo, valSet, measures=['fcp'])\n",
    "# Mean FCP : 0.5879"
   ]
  },
  {
   "cell_type": "code",
   "execution_count": null,
   "metadata": {
    "collapsed": true
   },
   "outputs": [],
   "source": [
    "# algo = surprise.SVD(n_factors=30)\n",
    "# algo.train(trainset)\n",
    "# print(\"Done Training\")\n",
    "# perf = surprise.evaluate(algo, valSet, measures=['fcp'])\n",
    "# Mean FCP : 0.5867"
   ]
  },
  {
   "cell_type": "code",
   "execution_count": null,
   "metadata": {
    "collapsed": true
   },
   "outputs": [],
   "source": [
    "# algo = surprise.SVD(n_factors=40)\n",
    "# algo.train(trainset)\n",
    "# print(\"Done Training\")\n",
    "# perf = surprise.evaluate(algo, valSet, measures=['fcp'])\n",
    "# Mean FCP : 0.5882"
   ]
  },
  {
   "cell_type": "code",
   "execution_count": 5,
   "metadata": {
    "collapsed": true
   },
   "outputs": [],
   "source": [
    "algos = []"
   ]
  },
  {
   "cell_type": "code",
   "execution_count": 6,
   "metadata": {},
   "outputs": [
    {
     "name": "stdout",
     "output_type": "stream",
     "text": [
      "Done Training\n",
      "Evaluating FCP of algorithm SVD.\n",
      "\n",
      "------------\n",
      "Fold 1\n",
      "FCP:  0.5906\n",
      "------------\n",
      "Fold 2\n",
      "FCP:  0.5891\n",
      "------------\n",
      "------------\n",
      "Mean FCP : 0.5899\n",
      "------------\n",
      "------------\n"
     ]
    }
   ],
   "source": [
    "algos += surprise.SVD(n_factors=100),\n",
    "algos[-1].train(trainset1)\n",
    "print(\"Done Training\")\n",
    "perf = surprise.evaluate(algos[-1], trainset2, measures=['fcp'])\n",
    "# Mean FCP : 0.5872"
   ]
  },
  {
   "cell_type": "code",
   "execution_count": 7,
   "metadata": {},
   "outputs": [
    {
     "name": "stdout",
     "output_type": "stream",
     "text": [
      "Done Training\n",
      "Evaluating FCP of algorithm SVD.\n",
      "\n",
      "------------\n",
      "Fold 1\n",
      "FCP:  0.5891\n",
      "------------\n",
      "Fold 2\n",
      "FCP:  0.5890\n",
      "------------\n",
      "------------\n",
      "Mean FCP : 0.5890\n",
      "------------\n",
      "------------\n"
     ]
    }
   ],
   "source": [
    "algos += surprise.SVD(n_factors=150),\n",
    "algos[-1].train(trainset1)\n",
    "print(\"Done Training\")\n",
    "perf = surprise.evaluate(algos[-1], trainset2, measures=['fcp'])"
   ]
  },
  {
   "cell_type": "code",
   "execution_count": 8,
   "metadata": {},
   "outputs": [
    {
     "name": "stdout",
     "output_type": "stream",
     "text": [
      "Done Training\n",
      "Evaluating FCP of algorithm SVD.\n",
      "\n",
      "------------\n",
      "Fold 1\n",
      "FCP:  0.5886\n",
      "------------\n",
      "Fold 2\n",
      "FCP:  0.5875\n",
      "------------\n",
      "------------\n",
      "Mean FCP : 0.5880\n",
      "------------\n",
      "------------\n"
     ]
    }
   ],
   "source": [
    "algos += surprise.SVD(n_factors=200),\n",
    "algos[-1].train(trainset1)\n",
    "print(\"Done Training\")\n",
    "perf = surprise.evaluate(algos[-1], trainset2, measures=['fcp'])"
   ]
  },
  {
   "cell_type": "code",
   "execution_count": null,
   "metadata": {
    "collapsed": true
   },
   "outputs": [],
   "source": [
    "# algos += surprise.SVD(n_factors=80),\n",
    "# algos[-1].train(trainset1)\n",
    "# print(\"Done Training\")\n",
    "# perf = surprise.evaluate(algos[-1], trainset2, measures=['fcp'])"
   ]
  },
  {
   "cell_type": "code",
   "execution_count": null,
   "metadata": {
    "collapsed": true
   },
   "outputs": [],
   "source": [
    "# algos += surprise.SVD(n_factors=90),\n",
    "# algos[-1].train(trainset1)\n",
    "# print(\"Done Training\")\n",
    "# perf = surprise.evaluate(algos[-1], trainset2, measures=['fcp'])"
   ]
  },
  {
   "cell_type": "code",
   "execution_count": null,
   "metadata": {
    "collapsed": true
   },
   "outputs": [],
   "source": [
    "# algos += surprise.SVD(n_factors=100),\n",
    "# algos[-1].train(trainset1)\n",
    "# print(\"Done Training\")\n",
    "# perf = surprise.evaluate(algos[-1], trainset2, measures=['fcp'])"
   ]
  },
  {
   "cell_type": "code",
   "execution_count": 9,
   "metadata": {},
   "outputs": [
    {
     "name": "stdout",
     "output_type": "stream",
     "text": [
      "loading done\n"
     ]
    }
   ],
   "source": [
    "data_path = '../data/'\n",
    "test = pickle.load( open(data_path + 'test_feature_myadding1_only', 'rb'))\n",
    "print 'loading done'"
   ]
  },
  {
   "cell_type": "code",
   "execution_count": 10,
   "metadata": {
    "collapsed": true
   },
   "outputs": [],
   "source": [
    "pred = []\n",
    "for algo in algos:\n",
    "    tmp = []\n",
    "    for index, row in test.iterrows():\n",
    "        tmp += algo.predict(row['msno'], row['song_id']).est,\n",
    "    pred += tmp,"
   ]
  },
  {
   "cell_type": "code",
   "execution_count": 15,
   "metadata": {},
   "outputs": [
    {
     "name": "stdout",
     "output_type": "stream",
     "text": [
      "(2556790,)\n",
      "2556790\n"
     ]
    }
   ],
   "source": [
    "#result = np.mean(pred, axis = 0)\n",
    "print np.shape(result)\n",
    "print len(test)"
   ]
  },
  {
   "cell_type": "code",
   "execution_count": 17,
   "metadata": {},
   "outputs": [
    {
     "name": "stdout",
     "output_type": "stream",
     "text": [
      "Saving predictions Model model of gbdt\n",
      "Done!\n"
     ]
    }
   ],
   "source": [
    "print ('Saving predictions Model model of gbdt')\n",
    "subm = pd.DataFrame()\n",
    "subm['id'] = range(len(test))\n",
    "subm['target'] = result\n",
    "subm.to_csv('../submissions/submission_SVD_100_200.csv.gz', compression = 'gzip', index=False, float_format = '%.5f')\n",
    "print('Done!')"
   ]
  },
  {
   "cell_type": "code",
   "execution_count": null,
   "metadata": {
    "collapsed": true
   },
   "outputs": [],
   "source": [
    "#100 : 0.62606\n",
    "#20 : "
   ]
  },
  {
   "cell_type": "code",
   "execution_count": null,
   "metadata": {
    "collapsed": true
   },
   "outputs": [],
   "source": [
    "# print algo.pu\n",
    "# print algo.qi"
   ]
  },
  {
   "cell_type": "code",
   "execution_count": null,
   "metadata": {
    "collapsed": true
   },
   "outputs": [],
   "source": [
    "# trainSet = train.iloc[:, :72]\n",
    "# df1 = datasX.iloc[:, :72]\n",
    "# df2 = datasX.iloc[:, 72:]"
   ]
  },
  {
   "cell_type": "code",
   "execution_count": null,
   "metadata": {
    "collapsed": true
   },
   "outputs": [],
   "source": [
    "print 'A'"
   ]
  },
  {
   "cell_type": "code",
   "execution_count": null,
   "metadata": {
    "collapsed": true
   },
   "outputs": [],
   "source": [
    "l =  int(len(train) * 0.8)\n",
    "print l"
   ]
  },
  {
   "cell_type": "code",
   "execution_count": null,
   "metadata": {
    "collapsed": true
   },
   "outputs": [],
   "source": [
    "trainSet =  train.iloc[:l, :]\n",
    "valSet = train.iloc[l:, :]"
   ]
  },
  {
   "cell_type": "code",
   "execution_count": null,
   "metadata": {
    "collapsed": true
   },
   "outputs": [],
   "source": [
    "print len(trainSet), len(valSet)"
   ]
  },
  {
   "cell_type": "code",
   "execution_count": null,
   "metadata": {
    "collapsed": true
   },
   "outputs": [],
   "source": [
    "print trainSet.head(0)"
   ]
  },
  {
   "cell_type": "code",
   "execution_count": null,
   "metadata": {
    "collapsed": true
   },
   "outputs": [],
   "source": [
    "# import pickle\n",
    "# pickle.dump(algos, open('../data/algos_SVD5_10', 'wb'))"
   ]
  },
  {
   "cell_type": "code",
   "execution_count": null,
   "metadata": {
    "collapsed": true
   },
   "outputs": [],
   "source": [
    "print 'A'"
   ]
  },
  {
   "cell_type": "code",
   "execution_count": null,
   "metadata": {
    "collapsed": true
   },
   "outputs": [],
   "source": []
  }
 ],
 "metadata": {
  "kernelspec": {
   "display_name": "Python 2",
   "language": "python",
   "name": "python2"
  },
  "language_info": {
   "codemirror_mode": {
    "name": "ipython",
    "version": 2
   },
   "file_extension": ".py",
   "mimetype": "text/x-python",
   "name": "python",
   "nbconvert_exporter": "python",
   "pygments_lexer": "ipython2",
   "version": "2.7.13"
  }
 },
 "nbformat": 4,
 "nbformat_minor": 2
}
