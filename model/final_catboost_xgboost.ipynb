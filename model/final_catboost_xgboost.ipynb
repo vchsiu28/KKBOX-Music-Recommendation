{
 "cells": [
  {
   "cell_type": "markdown",
   "metadata": {},
   "source": [
    "# Fitting"
   ]
  },
  {
   "cell_type": "code",
   "execution_count": 5,
   "metadata": {
    "ExecuteTime": {
     "end_time": "2017-12-16T18:41:23.220478Z",
     "start_time": "2017-12-16T18:41:19.044708Z"
    }
   },
   "outputs": [],
   "source": [
    "import joblib\n",
    "import xgboost\n",
    "import catboost\n",
    "import numpy as np\n",
    "import pandas as pd"
   ]
  },
  {
   "cell_type": "code",
   "execution_count": null,
   "metadata": {
    "ExecuteTime": {
     "end_time": "2017-12-16T18:44:28.309756Z",
     "start_time": "2017-12-16T18:43:11.426719Z"
    },
    "collapsed": true
   },
   "outputs": [],
   "source": [
    "Xtrain0 = pd.read_hdf('../data/Xtrain0.hdf')\n",
    "ytrain0 = pd.read_hdf('../data/ytrain0.hdf')\n",
    "Xtrain1 = pd.read_hdf('../data/Xtrain1.hdf')\n",
    "ytrain1 = pd.read_hdf('../data/ytrain1.hdf')\n",
    "Xtest = pd.read_hdf('../data/Xtest.hdf')"
   ]
  },
  {
   "cell_type": "code",
   "execution_count": null,
   "metadata": {
    "ExecuteTime": {
     "end_time": "2017-12-16T18:44:28.315703Z",
     "start_time": "2017-12-16T18:44:28.312155Z"
    },
    "collapsed": true
   },
   "outputs": [],
   "source": [
    "model_xgb = xgboost.XGBClassifier(\n",
    "    learning_rate=0.03, \n",
    "    max_depth=7, \n",
    "    nthread=50, \n",
    "    seed=1, \n",
    "    n_estimators=750,\n",
    ")\n",
    "model_cb = catboost.CatBoostClassifier(\n",
    "    iterations=2000, \n",
    "    learning_rate=0.03, \n",
    "    depth=7, \n",
    "    loss_function='Logloss',\n",
    "    thread_count=50,\n",
    "    random_seed=1,\n",
    ")"
   ]
  },
  {
   "cell_type": "code",
   "execution_count": null,
   "metadata": {
    "collapsed": true
   },
   "outputs": [],
   "source": [
    "model_xgb.fit(Xtrain0, ytrain0)\n",
    "p = model_xgb.predict_proba(Xtest)[:,1]\n",
    "joblib.dump(p, 'p0_xgb_mf')\n",
    "\n",
    "model_xgb.fit(Xtrain0.drop('matrix_factorization', axis=1), ytrain0)\n",
    "p = model_xgb.predict_proba(Xtest.drop('matrix_factorization', axis=1))[:,1]\n",
    "joblib.dump(p, 'p0_xgb')\n",
    "\n",
    "model_xgb.fit(Xtrain1, ytrain1)\n",
    "p = model_xgb.predict_proba(Xtest)[:,1]\n",
    "joblib.dump(p, 'p1_xgb_mf')\n",
    "\n",
    "model_xgb.fit(Xtrain1.drop('matrix_factorization', axis=1), ytrain1)\n",
    "p = model_xgb.predict_proba(Xtest.drop('matrix_factorization', axis=1))[:,1]\n",
    "joblib.dump(p, 'p1_xgb')"
   ]
  },
  {
   "cell_type": "code",
   "execution_count": null,
   "metadata": {
    "collapsed": true
   },
   "outputs": [],
   "source": [
    "model_cb.fit(Xtrain0, ytrain0)\n",
    "p = model_cb.predict_proba(Xtest)[:,1]\n",
    "joblib.dump(p, 'p0_xgb_mf')\n",
    "\n",
    "model_cb.fit(Xtrain0.drop('matrix_factorization', axis=1), ytrain0)\n",
    "p = model_cb.predict_proba(Xtest.drop('matrix_factorization', axis=1))[:,1]\n",
    "joblib.dump(p, 'p0_xgb')\n",
    "\n",
    "model_cb.fit(Xtrain1, ytrain1)\n",
    "p = model_cb.predict_proba(Xtest)[:,1]\n",
    "joblib.dump(p, 'p1_xgb_mf')\n",
    "\n",
    "model_cb.fit(Xtrain1.drop('matrix_factorization', axis=1), ytrain1)\n",
    "p = model_cb.predict_proba(Xtest.drop('matrix_factorization', axis=1))[:,1]\n",
    "joblib.dump(p, 'p1_xgb')"
   ]
  },
  {
   "cell_type": "markdown",
   "metadata": {},
   "source": [
    "# Blending"
   ]
  },
  {
   "cell_type": "code",
   "execution_count": null,
   "metadata": {
    "collapsed": true
   },
   "outputs": [],
   "source": [
    "import pandas as pd\n",
    "import numpy as np\n",
    "import joblib"
   ]
  },
  {
   "cell_type": "code",
   "execution_count": null,
   "metadata": {
    "collapsed": true
   },
   "outputs": [],
   "source": [
    "p0_xgb_mf = joblib.load('p0_xgb_mf')\n",
    "p0_xgb = joblib.load('p0_xgb')\n",
    "p1_xgb_mf = joblib.load('p1_xgb_mf')\n",
    "p1_xgb = joblib.load('p1_xgb')\n",
    "\n",
    "p0_cb_mf = joblib.load('p0_cb_mf')\n",
    "p0_cb = joblib.load('p0_cb')\n",
    "p1_cb_mf = joblib.load('p1_cb_mf')\n",
    "p1_cb = joblib.load('p1_cb')"
   ]
  },
  {
   "cell_type": "code",
   "execution_count": null,
   "metadata": {
    "ExecuteTime": {
     "end_time": "2017-12-11T12:44:49.736869Z",
     "start_time": "2017-12-11T12:44:49.680857Z"
    },
    "collapsed": true
   },
   "outputs": [],
   "source": [
    "p_cb = 0.6 * p0_cb + 0.4 * p1_cb\n",
    "p_cb_mf = 0.6 * p0_cb_mf + 0.4 * p1_cb_mf\n",
    "p_xgb = 0.6 * p0_xgb + 0.4 * p1_xgb\n",
    "p_xgb_mf = 0.6 * p0_xgb_mf + 0.4 * p1_xgb_mf"
   ]
  },
  {
   "cell_type": "code",
   "execution_count": null,
   "metadata": {
    "ExecuteTime": {
     "end_time": "2017-12-11T06:18:53.641930Z",
     "start_time": "2017-12-11T06:18:53.497514Z"
    },
    "collapsed": true
   },
   "outputs": [],
   "source": [
    "p_c = 0.6 * p_cb_mf + 0.4 * p_cb\n",
    "p_x = 0.6 * p_xgb_mf + 0.4 * p_xgb\n",
    "\n",
    "p = 0.6 * p_c + 0.4 * p_x"
   ]
  },
  {
   "cell_type": "code",
   "execution_count": null,
   "metadata": {
    "ExecuteTime": {
     "end_time": "2017-12-11T12:49:39.994265Z",
     "start_time": "2017-12-11T12:49:33.867242Z"
    },
    "collapsed": true
   },
   "outputs": [],
   "source": [
    "sub = pd.DataFrame(p)\n",
    "sub = sub.reset_index()\n",
    "sub.columns = ['id', 'target']\n",
    "sub.to_csv('submission.csv', index=False)"
   ]
  }
 ],
 "metadata": {
  "anaconda-cloud": {},
  "kernelspec": {
   "display_name": "Python 3",
   "language": "python",
   "name": "python3"
  },
  "language_info": {
   "codemirror_mode": {
    "name": "ipython",
    "version": 3
   },
   "file_extension": ".py",
   "mimetype": "text/x-python",
   "name": "python",
   "nbconvert_exporter": "python",
   "pygments_lexer": "ipython3",
   "version": "3.6.0"
  },
  "toc": {
   "colors": {
    "hover_highlight": "#DAA520",
    "navigate_num": "#000000",
    "navigate_text": "#333333",
    "running_highlight": "#FF0000",
    "selected_highlight": "#FFD700",
    "sidebar_border": "#EEEEEE",
    "wrapper_background": "#FFFFFF"
   },
   "moveMenuLeft": true,
   "nav_menu": {
    "height": "30px",
    "width": "251px"
   },
   "navigate_menu": true,
   "number_sections": true,
   "sideBar": true,
   "skip_h1_title": false,
   "threshold": 4,
   "toc_cell": false,
   "toc_section_display": "block",
   "toc_window_display": false,
   "widenNotebook": false
  }
 },
 "nbformat": 4,
 "nbformat_minor": 2
}
