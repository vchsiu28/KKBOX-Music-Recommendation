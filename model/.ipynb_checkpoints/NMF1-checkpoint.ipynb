{
 "cells": [
  {
   "cell_type": "code",
   "execution_count": 1,
   "metadata": {
    "collapsed": true
   },
   "outputs": [],
   "source": [
    "import numpy as np\n",
    "import surprise\n",
    "import pandas as pd\n",
    "import pickle"
   ]
  },
  {
   "cell_type": "code",
   "execution_count": 2,
   "metadata": {},
   "outputs": [
    {
     "name": "stdout",
     "output_type": "stream",
     "text": [
      "Training Set Loaded\n",
      "val Set Loaded\n"
     ]
    }
   ],
   "source": [
    "train = pickle.load(open('../data/trainSet_SVD', 'r'))\n",
    "print \"Training Set Loaded\"\n",
    "val= pickle.load(open('../data/valSet_SVD', 'r'))\n",
    "print(\"val Set Loaded\")"
   ]
  },
  {
   "cell_type": "code",
   "execution_count": 3,
   "metadata": {
    "collapsed": true
   },
   "outputs": [],
   "source": [
    "reader = surprise.Reader(rating_scale=(0,1))\n",
    "data = surprise.Dataset.load_from_df(train[['msno', 'song_id', 'target']].dropna(), reader)"
   ]
  },
  {
   "cell_type": "code",
   "execution_count": 4,
   "metadata": {
    "collapsed": true
   },
   "outputs": [],
   "source": [
    "trainSet = data.build_full_trainset()"
   ]
  },
  {
   "cell_type": "code",
   "execution_count": 5,
   "metadata": {
    "collapsed": true
   },
   "outputs": [],
   "source": [
    "valSet = surprise.Dataset.load_from_df(train[['msno', 'song_id', 'target']].dropna(), reader)\n",
    "valSet.split(n_folds=2)"
   ]
  },
  {
   "cell_type": "code",
   "execution_count": 6,
   "metadata": {
    "collapsed": true
   },
   "outputs": [],
   "source": [
    "# algo = surprise.NMF(n_factors=120)\n",
    "# algo.train(trainSet)\n",
    "# print(\"Done Training\")\n",
    "# perf = surprise.evaluate(algo, valSet, measures=['fcp'])\n",
    "# # 0.5956"
   ]
  },
  {
   "cell_type": "code",
   "execution_count": 7,
   "metadata": {
    "collapsed": true
   },
   "outputs": [],
   "source": [
    "# algo = surprise.NMF(n_factors=150)\n",
    "# algo.train(trainSet)\n",
    "# print(\"Done Training\")\n",
    "# perf = surprise.evaluate(algo, valSet, measures=['fcp'])\n",
    "# # 0.5956"
   ]
  },
  {
   "cell_type": "code",
   "execution_count": 49,
   "metadata": {
    "collapsed": true
   },
   "outputs": [],
   "source": [
    "algos = []"
   ]
  },
  {
   "cell_type": "code",
   "execution_count": 9,
   "metadata": {
    "collapsed": true
   },
   "outputs": [],
   "source": [
    "# algos += surprise.NMF(n_factors=20),\n",
    "# algos[-1].train(trainSet)\n",
    "# print(\"Done Training\")\n",
    "# perf = surprise.evaluate(algos[-1], valSet, measures=['fcp'])"
   ]
  },
  {
   "cell_type": "code",
   "execution_count": 10,
   "metadata": {
    "collapsed": true
   },
   "outputs": [],
   "source": [
    "# algos += surprise.NMF(n_factors=30),\n",
    "# algos[-1].train(trainSet)\n",
    "# print(\"Done Training\")\n",
    "# perf = surprise.evaluate(algos[-1], valSet, measures=['fcp'])"
   ]
  },
  {
   "cell_type": "code",
   "execution_count": 11,
   "metadata": {
    "collapsed": true
   },
   "outputs": [],
   "source": [
    "# algos += surprise.NMF(n_factors=40),\n",
    "# algos[-1].train(trainSet)\n",
    "# print(\"Done Training\")\n",
    "# perf = surprise.evaluate(algos[-1], valSet, measures=['fcp'])"
   ]
  },
  {
   "cell_type": "code",
   "execution_count": 50,
   "metadata": {},
   "outputs": [
    {
     "name": "stdout",
     "output_type": "stream",
     "text": [
      "Done Training\n",
      "Evaluating FCP of algorithm NMF.\n",
      "\n",
      "------------\n",
      "Fold 1\n",
      "FCP:  0.6045\n",
      "------------\n",
      "Fold 2\n",
      "FCP:  0.6030\n",
      "------------\n",
      "------------\n",
      "Mean FCP : 0.6038\n",
      "------------\n",
      "------------\n"
     ]
    }
   ],
   "source": [
    "algos += surprise.NMF(n_factors=150),\n",
    "algos[-1].train(trainSet)\n",
    "print(\"Done Training\")\n",
    "perf = surprise.evaluate(algos[-1], valSet, measures=['fcp'])"
   ]
  },
  {
   "cell_type": "code",
   "execution_count": 51,
   "metadata": {},
   "outputs": [
    {
     "name": "stdout",
     "output_type": "stream",
     "text": [
      "Done Training\n",
      "Evaluating FCP of algorithm NMF.\n",
      "\n",
      "------------\n",
      "Fold 1\n",
      "FCP:  0.6045\n",
      "------------\n",
      "Fold 2\n",
      "FCP:  0.6029\n",
      "------------\n",
      "------------\n",
      "Mean FCP : 0.6037\n",
      "------------\n",
      "------------\n"
     ]
    }
   ],
   "source": [
    "algos += surprise.NMF(n_factors=200),\n",
    "algos[-1].train(trainSet)\n",
    "print(\"Done Training\")\n",
    "perf = surprise.evaluate(algos[-1], valSet, measures=['fcp'])"
   ]
  },
  {
   "cell_type": "code",
   "execution_count": 52,
   "metadata": {},
   "outputs": [
    {
     "name": "stdout",
     "output_type": "stream",
     "text": [
      "Done Training\n",
      "Evaluating FCP of algorithm NMF.\n",
      "\n",
      "------------\n",
      "Fold 1\n",
      "FCP:  0.6044\n",
      "------------\n",
      "Fold 2\n",
      "FCP:  0.6026\n",
      "------------\n",
      "------------\n",
      "Mean FCP : 0.6035\n",
      "------------\n",
      "------------\n"
     ]
    }
   ],
   "source": [
    "algos += surprise.NMF(n_factors=250),\n",
    "algos[-1].train(trainSet)\n",
    "print(\"Done Training\")\n",
    "perf = surprise.evaluate(algos[-1], valSet, measures=['fcp'])"
   ]
  },
  {
   "cell_type": "code",
   "execution_count": 53,
   "metadata": {},
   "outputs": [
    {
     "name": "stdout",
     "output_type": "stream",
     "text": [
      "Done Training\n",
      "Evaluating FCP of algorithm NMF.\n",
      "\n",
      "------------\n",
      "Fold 1\n",
      "FCP:  0.6044\n",
      "------------\n",
      "Fold 2\n",
      "FCP:  0.6028\n",
      "------------\n",
      "------------\n",
      "Mean FCP : 0.6036\n",
      "------------\n",
      "------------\n"
     ]
    }
   ],
   "source": [
    "algos += surprise.NMF(n_factors=300),\n",
    "algos[-1].train(trainSet)\n",
    "print(\"Done Training\")\n",
    "perf = surprise.evaluate(algos[-1], valSet, measures=['fcp'])"
   ]
  },
  {
   "cell_type": "code",
   "execution_count": 54,
   "metadata": {},
   "outputs": [
    {
     "name": "stdout",
     "output_type": "stream",
     "text": [
      "Done Training\n",
      "Evaluating FCP of algorithm NMF.\n",
      "\n",
      "------------\n",
      "Fold 1\n",
      "FCP:  0.6040\n",
      "------------\n",
      "Fold 2\n",
      "FCP:  0.6026\n",
      "------------\n",
      "------------\n",
      "Mean FCP : 0.6033\n",
      "------------\n",
      "------------\n"
     ]
    }
   ],
   "source": [
    "algos += surprise.NMF(n_factors=350),\n",
    "algos[-1].train(trainSet)\n",
    "print(\"Done Training\")\n",
    "perf = surprise.evaluate(algos[-1], valSet, measures=['fcp'])"
   ]
  },
  {
   "cell_type": "code",
   "execution_count": 56,
   "metadata": {
    "collapsed": true
   },
   "outputs": [],
   "source": [
    "# algos += surprise.NMF(n_factors=400),\n",
    "# algos[-1].train(trainSet)\n",
    "# print(\"Done Training\")\n",
    "# perf = surprise.evaluate(algos[-1], valSet, measures=['fcp'])"
   ]
  },
  {
   "cell_type": "code",
   "execution_count": null,
   "metadata": {
    "collapsed": true
   },
   "outputs": [],
   "source": [
    "import pickle\n",
    "pickle.dump(algos, open('../data/algos_NMF_150_350', 'wb'))\n",
    "# algos1 = pickle.load(open('../data/algos_SVD5_10', 'rb'))"
   ]
  },
  {
   "cell_type": "code",
   "execution_count": 41,
   "metadata": {},
   "outputs": [
    {
     "name": "stdout",
     "output_type": "stream",
     "text": [
      "test Set Loaded\n"
     ]
    }
   ],
   "source": [
    "# test= pickle.load(open('../data/test', 'r'))\n",
    "# print(\"test Set Loaded\")"
   ]
  },
  {
   "cell_type": "code",
   "execution_count": 59,
   "metadata": {},
   "outputs": [
    {
     "name": "stdout",
     "output_type": "stream",
     "text": [
      "5\n"
     ]
    }
   ],
   "source": [
    "print len(algos)"
   ]
  },
  {
   "cell_type": "code",
   "execution_count": 60,
   "metadata": {
    "collapsed": true
   },
   "outputs": [],
   "source": [
    "pred = []\n",
    "for algo in algos:\n",
    "    tmp = []\n",
    "    for index, row in test.iterrows():\n",
    "        tmp += algo.predict(row['msno'], row['song_id']).est,\n",
    "    pred += tmp,\n",
    "# for algo in algos1:\n",
    "#     tmp = []\n",
    "#     for index, row in test.iterrows():\n",
    "#         tmp += algo.predict(row['msno'], row['song_id']).est,\n",
    "#     pred += tmp,"
   ]
  },
  {
   "cell_type": "code",
   "execution_count": 61,
   "metadata": {},
   "outputs": [
    {
     "name": "stdout",
     "output_type": "stream",
     "text": [
      "5 (5, 2556790)\n"
     ]
    }
   ],
   "source": [
    "print len(pred), np.shape(pred)"
   ]
  },
  {
   "cell_type": "code",
   "execution_count": 62,
   "metadata": {
    "collapsed": true
   },
   "outputs": [],
   "source": [
    "result = np.mean(pred, axis = 0)"
   ]
  },
  {
   "cell_type": "code",
   "execution_count": 63,
   "metadata": {},
   "outputs": [
    {
     "name": "stdout",
     "output_type": "stream",
     "text": [
      "(2556790,)\n"
     ]
    }
   ],
   "source": [
    "print np.shape(result)"
   ]
  },
  {
   "cell_type": "code",
   "execution_count": 64,
   "metadata": {},
   "outputs": [
    {
     "name": "stdout",
     "output_type": "stream",
     "text": [
      "Saving predictions Model model of gbdt\n",
      "Done!\n"
     ]
    }
   ],
   "source": [
    "print ('Saving predictions Model model of gbdt')\n",
    "ids = test['id'].values\n",
    "subm = pd.DataFrame()\n",
    "subm['id'] = ids\n",
    "subm['target'] = result\n",
    "subm.to_csv('../submissions/submission_NMF_150_350.csv.gz', compression = 'gzip', index=False, float_format = '%.5f')\n",
    "\n",
    "print('Done!')"
   ]
  },
  {
   "cell_type": "code",
   "execution_count": 19,
   "metadata": {
    "collapsed": true
   },
   "outputs": [],
   "source": [
    "# submit = []\n",
    "# for index, row in test.iterrows():\n",
    "#     est = algo.predict(row['msno'], row['song_id']).est\n",
    "#     submit.append((row['id'], est))\n",
    "# submit = pd.DataFrame(submit, columns=['id', 'target'])\n",
    "# submit.to_csv('../submissions/submission_svd.csv', index=False)\n",
    "# print(\"Created submission.csv\")"
   ]
  },
  {
   "cell_type": "code",
   "execution_count": 20,
   "metadata": {
    "collapsed": true
   },
   "outputs": [],
   "source": [
    "#100 : 0.62606\n",
    "#20 : "
   ]
  },
  {
   "cell_type": "code",
   "execution_count": 21,
   "metadata": {
    "collapsed": true
   },
   "outputs": [],
   "source": [
    "# print algo.pu\n",
    "# print algo.qi"
   ]
  },
  {
   "cell_type": "code",
   "execution_count": 22,
   "metadata": {
    "collapsed": true
   },
   "outputs": [],
   "source": [
    "# trainSet = train.iloc[:, :72]\n",
    "# df1 = datasX.iloc[:, :72]\n",
    "# df2 = datasX.iloc[:, 72:]"
   ]
  },
  {
   "cell_type": "code",
   "execution_count": 24,
   "metadata": {},
   "outputs": [
    {
     "name": "stdout",
     "output_type": "stream",
     "text": [
      "4721547\n"
     ]
    }
   ],
   "source": [
    "l =  int(len(train) * 0.8)\n",
    "print l"
   ]
  }
 ],
 "metadata": {
  "anaconda-cloud": {},
  "kernelspec": {
   "display_name": "Python 2",
   "language": "python",
   "name": "python2"
  },
  "language_info": {
   "codemirror_mode": {
    "name": "ipython",
    "version": 2
   },
   "file_extension": ".py",
   "mimetype": "text/x-python",
   "name": "python",
   "nbconvert_exporter": "python",
   "pygments_lexer": "ipython2",
   "version": "2.7.13"
  }
 },
 "nbformat": 4,
 "nbformat_minor": 2
}
