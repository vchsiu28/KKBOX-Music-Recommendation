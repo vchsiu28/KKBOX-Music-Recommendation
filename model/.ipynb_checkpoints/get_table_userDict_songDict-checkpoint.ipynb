{
 "cells": [
  {
   "cell_type": "code",
   "execution_count": 1,
   "metadata": {
    "collapsed": true
   },
   "outputs": [],
   "source": [
    "import csv\n",
    "import json\n",
    "import pickle\n",
    "import numpy as np"
   ]
  },
  {
   "cell_type": "code",
   "execution_count": 2,
   "metadata": {},
   "outputs": [
    {
     "name": "stdout",
     "output_type": "stream",
     "text": [
      "aMB9nC9PVKXsk/K++qMMG0in0dvk2XiUFuAnr10qiac=,ysKSH3JKPoqq4IQltUO7J4LNHmexbYg7lU1RmY9VBTs=,my library,Album more,album,0\r\n",
      "\n"
     ]
    }
   ],
   "source": [
    "k = 0\n",
    "users, songs, table = {}, {}, {}\n",
    "with open('../data/val1/train.csv') as data_file:\n",
    "    for line in data_file:\n",
    "        k += 1\n",
    "        if k == 1: \n",
    "            print line\n",
    "            continue\n",
    "        data = line.split(',')\n",
    "        if data[0] not in users:\n",
    "            users[data[0]] = len(users)\n",
    "            table[users[data[0]]] = {}\n",
    "        if data[1] not in songs:\n",
    "            songs[data[1]] = len(songs)\n",
    "        table.get(users[data[0]])[songs[data[1]]] = 1 if data[-1] == 1 else 0"
   ]
  },
  {
   "cell_type": "code",
   "execution_count": 3,
   "metadata": {
    "collapsed": true
   },
   "outputs": [],
   "source": [
    "# with open('../data/val1/users_dict.pickle', 'rb') as handle:\n",
    "#     users = pickle.load(handle)\n",
    "# with open('../data/val1/songs_dict.pickle', 'rb') as handle:\n",
    "#     songs = pickle.load(handle)"
   ]
  },
  {
   "cell_type": "code",
   "execution_count": 6,
   "metadata": {},
   "outputs": [
    {
     "name": "stdout",
     "output_type": "stream",
     "text": [
      "5901935\n"
     ]
    }
   ],
   "source": [
    "print k"
   ]
  },
  {
   "cell_type": "code",
   "execution_count": 3,
   "metadata": {},
   "outputs": [
    {
     "name": "stdout",
     "output_type": "stream",
     "text": [
      "[0 0 0 0]\n"
     ]
    }
   ],
   "source": [
    "M = np.zeros([len(users),len(songs)], np.int)\n",
    "print M[0,:4]"
   ]
  },
  {
   "cell_type": "code",
   "execution_count": 4,
   "metadata": {},
   "outputs": [
    {
     "name": "stdout",
     "output_type": "stream",
     "text": [
      "(30557, 324429)\n"
     ]
    }
   ],
   "source": [
    "print np.shape(M)\n",
    "for user in users:\n",
    "    user_id = users[user]\n",
    "    for music in table[user_id]:\n",
    "        r = table[user_id][music]\n",
    "        M[user_id, music] = 1 if r == 1 else -1"
   ]
  },
  {
   "cell_type": "code",
   "execution_count": 5,
   "metadata": {},
   "outputs": [
    {
     "name": "stdout",
     "output_type": "stream",
     "text": [
      "[-1  0  0  0]\n"
     ]
    }
   ],
   "source": [
    "print M[0,:4]"
   ]
  },
  {
   "cell_type": "code",
   "execution_count": null,
   "metadata": {
    "collapsed": true
   },
   "outputs": [],
   "source": [
    "with open('../data/val1/M.pickle', 'wb') as handle:\n",
    "    pickle.dump(M, handle, protocol=pickle.HIGHEST_PROTOCOL)"
   ]
  },
  {
   "cell_type": "code",
   "execution_count": 24,
   "metadata": {
    "collapsed": true
   },
   "outputs": [],
   "source": [
    "# with open('../data/val1/users_dict.pickle', 'wb') as handle:\n",
    "#     pickle.dump(users, handle, protocol=pickle.HIGHEST_PROTOCOL)\n",
    "# with open('../data/val1/songs_dict.pickle', 'wb') as handle:\n",
    "#     pickle.dump(songs, handle, protocol=pickle.HIGHEST_PROTOCOL)"
   ]
  },
  {
   "cell_type": "code",
   "execution_count": 15,
   "metadata": {},
   "outputs": [
    {
     "name": "stdout",
     "output_type": "stream",
     "text": [
      "song_id,song_length,genre_ids,artist_name,composer,lyricist,language\n",
      "\n"
     ]
    }
   ],
   "source": [
    "k = 0\n",
    "song_to_singer = {}\n",
    "with open('../data/songs.csv') as data_file:\n",
    "    for line in data_file:\n",
    "        k += 1\n",
    "        if k == 1: \n",
    "            print line\n",
    "            continue\n",
    "        data = line.split(',')\n",
    "        song, singer = data[0], data[3]\n",
    "        song_to_singer[song] = singer"
   ]
  },
  {
   "cell_type": "code",
   "execution_count": 16,
   "metadata": {},
   "outputs": [
    {
     "name": "stdout",
     "output_type": "stream",
     "text": [
      "aMB9nC9PVKXsk/K++qMMG0in0dvk2XiUFuAnr10qiac=,ysKSH3JKPoqq4IQltUO7J4LNHmexbYg7lU1RmY9VBTs=,my library,Album more,album,0\r\n",
      "\n"
     ]
    }
   ],
   "source": [
    "k = 0\n",
    "user_to_singer = {}\n",
    "with open('../data/val1/train.csv') as data_file:\n",
    "    for line in data_file:\n",
    "        k += 1\n",
    "        if k == 1: \n",
    "            print line\n",
    "            continue\n",
    "        data = line.split(',')\n",
    "        user, song = data[0], data[1]\n",
    "        singer = song_to_singer.get(song,-1)\n",
    "        if singer == -1:\n",
    "            continue\n",
    "        if user not in user_to_singer: \n",
    "            user_to_singer[user] = set([])\n",
    "        user_to_singer.get(user).add(singer)"
   ]
  },
  {
   "cell_type": "code",
   "execution_count": 17,
   "metadata": {},
   "outputs": [
    {
     "name": "stdout",
     "output_type": "stream",
     "text": [
      "30557\n"
     ]
    }
   ],
   "source": [
    "print len(user_to_singer)"
   ]
  },
  {
   "cell_type": "code",
   "execution_count": 18,
   "metadata": {
    "collapsed": true
   },
   "outputs": [],
   "source": [
    "with open('../data/val1/song_to_singer.pickle', 'wb') as handle:\n",
    "    pickle.dump(song_to_singer, handle, protocol=pickle.HIGHEST_PROTOCOL)\n",
    "with open('../data/val1/user_to_singer.pickle', 'wb') as handle:\n",
    "    pickle.dump(user_to_singer, handle, protocol=pickle.HIGHEST_PROTOCOL)"
   ]
  },
  {
   "cell_type": "code",
   "execution_count": 12,
   "metadata": {},
   "outputs": [
    {
     "name": "stdout",
     "output_type": "stream",
     "text": [
      "done\n"
     ]
    }
   ],
   "source": [
    "print 'done'"
   ]
  },
  {
   "cell_type": "code",
   "execution_count": null,
   "metadata": {
    "collapsed": true
   },
   "outputs": [],
   "source": []
  }
 ],
 "metadata": {
  "anaconda-cloud": {},
  "kernelspec": {
   "display_name": "Python 3",
   "language": "python",
   "name": "python3"
  },
  "language_info": {
   "codemirror_mode": {
    "name": "ipython",
    "version": 3
   },
   "file_extension": ".py",
   "mimetype": "text/x-python",
   "name": "python",
   "nbconvert_exporter": "python",
   "pygments_lexer": "ipython3",
   "version": "3.6.0"
  }
 },
 "nbformat": 4,
 "nbformat_minor": 2
}
