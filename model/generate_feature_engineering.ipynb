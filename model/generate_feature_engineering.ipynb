{
 "cells": [
  {
   "cell_type": "code",
   "execution_count": 1,
   "metadata": {},
   "outputs": [],
   "source": [
    "import numpy as np\n",
    "import pandas as pd\n",
    "import lightgbm as lgb\n",
    "import datetime\n",
    "import math\n",
    "import gc"
   ]
  },
  {
   "cell_type": "code",
   "execution_count": 3,
   "metadata": {
    "collapsed": true
   },
   "outputs": [],
   "source": [
    "train = pd.read_csv('train.csv')\n",
    "test = pd.read_csv('test.csv')\n",
    "songs = pd.read_csv('songs1.csv')\n",
    "members = pd.read_csv('members.csv')\n",
    "songs_extra = pd.read_csv('song_extra_info.csv')\n",
    "\n",
    "song_cols = ['song_id', 'song_length', 'genre_ids', 'artist_name', 'composer',\\\n",
    "            'lyricist', 'language']\n",
    "\n",
    "train = train.merge(songs[song_cols], on='song_id', how='left')\n",
    "test = test.merge(songs[song_cols], on='song_id', how='left')\n",
    "\n",
    "members['registration_year'] = members['registration_init_time'].apply(lambda x: int(str(x)[0:4]))\n",
    "members['registration_month'] = members['registration_init_time'].apply(lambda x: int(str(x)[4:6]))\n",
    "members['registration_date'] = members['registration_init_time'].apply(lambda x: int(str(x)[6:8]))\n",
    "\n",
    "members['expiration_year'] = members['expiration_date'].apply(lambda x: int(str(x)[0:4]))\n",
    "members['expiration_month'] = members['expiration_date'].apply(lambda x: int(str(x)[4:6]))\n",
    "members['expiration_date'] = members['expiration_date'].apply(lambda x: int(str(x)[6:8]))\n",
    "\n",
    "members_cols = members.columns\n",
    "train = train.merge(members[members_cols], on='msno', how='left')\n",
    "test = test.merge(members[members_cols], on='msno', how='left')\n",
    "train = train.merge(songs_extra, on = 'song_id', how = 'left')\n",
    "test = test.merge(songs_extra, on = 'song_id', how = 'left')\n",
    "\n",
    "train['msno'] = train['msno'].astype('category')\n",
    "train['source_system_tab'] = train['source_system_tab'].astype('category')\n",
    "train['source_screen_name'] = train['source_screen_name'].astype('category')\n",
    "train['source_type'] = train['source_type'].astype('category')\n",
    "train['target'] = train['target'].astype(np.uint8)\n",
    "train['song_id'] = train['song_id'].astype('category')\n",
    "train['genre_ids'] = train['genre_ids'].astype('category')\n",
    "train['language'] = train['language'].astype('category')\n",
    "train['artist_name'] = train['artist_name'].astype('category')\n",
    "train['composer'] = train['composer'].astype('category')\n",
    "train['lyricist'] = train['lyricist'].astype('category')\n",
    "train['song_length'] = train['song_length'].astype(np.float64)\n",
    "train['city'] = train['city'].astype('category')\n",
    "train['bd'] = train['bd'].astype(np.uint8)\n",
    "train['gender'] = train['gender'].astype('category')\n",
    "train['registered_via'] = train['registered_via'].astype('category')\n",
    "train['registration_init_time'] = pd.to_datetime(train['registration_init_time'])\n",
    "train['expiration_date'] = pd.to_datetime(train['expiration_date'])\n",
    "train['membership_days'] = train['expiration_date'].subtract(train['registration_init_time']).dt.days.astype(int)\n",
    "\n",
    "train['registration_year'] = train['registration_init_time'].dt.year\n",
    "train['registration_month'] = train['registration_init_time'].dt.month\n",
    "train['registration_date'] = train['registration_init_time'].dt.day\n",
    "\n",
    "train['expiration_year'] = train['expiration_date'].dt.year\n",
    "train['expiration_month'] = train['expiration_date'].dt.month\n",
    "train['expiration_date'] = train['expiration_date'].dt.day\n",
    "train = train.drop(['registration_init_time'], axis=1)"
   ]
  },
  {
   "cell_type": "code",
   "execution_count": 4,
   "metadata": {
    "collapsed": true
   },
   "outputs": [],
   "source": [
    "test['msno'] = test['msno'].astype('category')\n",
    "test['source_system_tab'] = test['source_system_tab'].astype('category')\n",
    "test['source_screen_name'] = test['source_screen_name'].astype('category')\n",
    "test['source_type'] = test['source_type'].astype('category')\n",
    "test['song_id'] = test['song_id'].astype('category')\n",
    "\n",
    "test['genre_ids'] = test['genre_ids'].astype('category')\n",
    "test['language'] = test['language'].astype('category')\n",
    "test['artist_name'] = test['artist_name'].astype('category')\n",
    "test['composer'] = test['composer'].astype('category')\n",
    "test['lyricist'] = test['lyricist'].astype('category')\n",
    "test['song_length'] = test['song_length'].astype(np.float64)\n",
    "\n",
    "test['city'] = test['city'].astype('category')\n",
    "test['bd'] = test['bd'].astype(np.uint8)\n",
    "test['gender'] = test['gender'].astype('category')\n",
    "test['registered_via'] = test['registered_via'].astype('category')\n",
    "test['registration_init_time'] = pd.to_datetime(test['registration_init_time'])\n",
    "test['expiration_date'] = pd.to_datetime(test['expiration_date'])\n",
    "test['membership_days'] = test['expiration_date'].subtract(test['registration_init_time']).dt.days.astype(int)\n",
    "\n",
    "test['registration_year'] = test['registration_init_time'].dt.year\n",
    "test['registration_month'] = test['registration_init_time'].dt.month\n",
    "test['registration_date'] = test['registration_init_time'].dt.day\n",
    "\n",
    "test['expiration_year'] = test['expiration_date'].dt.year\n",
    "test['expiration_month'] = test['expiration_date'].dt.month\n",
    "test['expiration_date'] = test['expiration_date'].dt.day\n",
    "test = test.drop(['registration_init_time'], axis=1)"
   ]
  },
  {
   "cell_type": "code",
   "execution_count": null,
   "metadata": {
    "collapsed": true
   },
   "outputs": [],
   "source": [
    "print train['registration_init_time'].head(2)"
   ]
  },
  {
   "cell_type": "code",
   "execution_count": 5,
   "metadata": {},
   "outputs": [
    {
     "name": "stdout",
     "output_type": "stream",
     "text": [
      "Data merging...\n"
     ]
    }
   ],
   "source": [
    "print('Data merging...')\n",
    "\n",
    "def isrc_to_year(isrc):\n",
    "    if type(isrc) == str:\n",
    "        if int(isrc[5:7]) > 17:\n",
    "            return 1900 + int(isrc[5:7])\n",
    "        else:\n",
    "            return 2000 + int(isrc[5:7])\n",
    "    else:\n",
    "        return np.nan\n",
    "        \n",
    "train['song_year'] = train['isrc'].apply(isrc_to_year)\n",
    "train.drop(['isrc', 'song_name'], axis = 1, inplace = True)\n",
    "test['song_year'] = test['isrc'].apply(isrc_to_year)\n",
    "test.drop(['isrc', 'song_name'], axis = 1, inplace = True)"
   ]
  },
  {
   "cell_type": "code",
   "execution_count": 6,
   "metadata": {},
   "outputs": [
    {
     "name": "stdout",
     "output_type": "stream",
     "text": [
      "Data merging...\n",
      "Done merging...\n"
     ]
    }
   ],
   "source": [
    "print('Data merging...')\n",
    "\n",
    "train.song_length.fillna(200000,inplace=True)\n",
    "train.song_length = train.song_length.astype(np.uint32)\n",
    "train.song_id = train.song_id.astype('category')\n",
    "\n",
    "test.song_length.fillna(200000,inplace=True)\n",
    "test.song_length = test.song_length.astype(np.uint32)\n",
    "test.song_id = test.song_id.astype('category')\n",
    "\n",
    "# import gc\n",
    "# del members, songs; gc.collect();\n",
    "\n",
    "print('Done merging...')"
   ]
  },
  {
   "cell_type": "code",
   "execution_count": 8,
   "metadata": {},
   "outputs": [
    {
     "name": "stdout",
     "output_type": "stream",
     "text": [
      "msno                  category\n",
      "song_id               category\n",
      "source_system_tab     category\n",
      "source_screen_name    category\n",
      "source_type           category\n",
      "target                   uint8\n",
      "song_length             uint32\n",
      "genre_ids             category\n",
      "artist_name           category\n",
      "composer              category\n",
      "lyricist              category\n",
      "language              category\n",
      "city                  category\n",
      "bd                       uint8\n",
      "gender                category\n",
      "registered_via        category\n",
      "expiration_date          int64\n",
      "registration_year        int64\n",
      "registration_month       int64\n",
      "registration_date        int64\n",
      "expiration_year          int64\n",
      "expiration_month         int64\n",
      "membership_days          int64\n",
      "song_year              float64\n",
      "dtype: object\n"
     ]
    }
   ],
   "source": [
    "print train.dtypes"
   ]
  },
  {
   "cell_type": "code",
   "execution_count": 10,
   "metadata": {},
   "outputs": [
    {
     "name": "stdout",
     "output_type": "stream",
     "text": [
      "Adding new features\n"
     ]
    }
   ],
   "source": [
    "print (\"Adding new features\")\n",
    "\n",
    "def genre_id_count(x):\n",
    "    if x == 'no_genre_id':\n",
    "        return 0\n",
    "    else:\n",
    "        return x.count('|') + 1\n",
    "train['genre_ids'] = train['genre_ids'].cat.add_categories(['no_genre_id'])\n",
    "train['genre_ids'].fillna('no_genre_id',inplace=True)\n",
    "test['genre_ids'] = test['genre_ids'].cat.add_categories(['no_genre_id'])\n",
    "test['genre_ids'].fillna('no_genre_id',inplace=True)\n",
    "train['genre_ids_count'] = train['genre_ids'].apply(genre_id_count).astype(np.int8)\n",
    "test['genre_ids_count'] = test['genre_ids'].apply(genre_id_count).astype(np.int8)"
   ]
  },
  {
   "cell_type": "code",
   "execution_count": 11,
   "metadata": {
    "collapsed": true
   },
   "outputs": [],
   "source": [
    "\n",
    "def lyricist_count(x):\n",
    "    if x == 'no_lyricist':\n",
    "        return 0\n",
    "    else:\n",
    "        return sum(map(x.count, ['|', '/', '\\\\', ';'])) + 1\n",
    "    return sum(map(x.count, ['|', '/', '\\\\', ';']))\n",
    "\n",
    "train['lyricist'] = train['lyricist'].cat.add_categories(['no_lyricist'])\n",
    "train['lyricist'].fillna('no_lyricist',inplace=True)\n",
    "test['lyricist'] = test['lyricist'].cat.add_categories(['no_lyricist'])\n",
    "test['lyricist'].fillna('no_lyricist',inplace=True)\n",
    "train['lyricists_count'] = train['lyricist'].apply(lyricist_count).astype(np.int8)\n",
    "test['lyricists_count'] = test['lyricist'].apply(lyricist_count).astype(np.int8)"
   ]
  },
  {
   "cell_type": "code",
   "execution_count": 12,
   "metadata": {
    "collapsed": true
   },
   "outputs": [],
   "source": [
    "def composer_count(x):\n",
    "    if x == 'no_composer':\n",
    "        return 0\n",
    "    else:\n",
    "        return sum(map(x.count, ['|', '/', '\\\\', ';'])) + 1\n",
    "train['composer'] = train['composer'].cat.add_categories(['no_composer'])\n",
    "test['composer'] = test['composer'].cat.add_categories(['no_composer'])\n",
    "train['composer'].fillna('no_composer',inplace=True)\n",
    "test['composer'].fillna('no_composer',inplace=True)\n",
    "train['composer_count'] = train['composer'].apply(composer_count).astype(np.int8)\n",
    "test['composer_count'] = test['composer'].apply(composer_count).astype(np.int8)"
   ]
  },
  {
   "cell_type": "code",
   "execution_count": 13,
   "metadata": {
    "collapsed": true
   },
   "outputs": [],
   "source": [
    "def is_featured(x):\n",
    "    if 'feat' in str(x) :\n",
    "        return 1\n",
    "    return 0\n",
    "\n",
    "train['artist_name'] = train['artist_name'].cat.add_categories(['no_artist'])\n",
    "test['artist_name'] = test['artist_name'].cat.add_categories(['no_artist'])\n",
    "train['artist_name'].fillna('no_artist',inplace=True)\n",
    "test['artist_name'].fillna('no_artist',inplace=True)\n",
    "train['is_featured'] = train['artist_name'].apply(is_featured).astype(np.int8)\n",
    "test['is_featured'] = test['artist_name'].apply(is_featured).astype(np.int8)"
   ]
  },
  {
   "cell_type": "code",
   "execution_count": 14,
   "metadata": {
    "collapsed": true
   },
   "outputs": [],
   "source": [
    "def artist_count(x):\n",
    "    if x == 'no_artist':\n",
    "        return 0\n",
    "    else:\n",
    "        return x.count('and') + x.count(',') + x.count('feat') + x.count('&')\n",
    "\n",
    "train['artist_count'] = train['artist_name'].apply(artist_count).astype(np.int8)\n",
    "test['artist_count'] = test['artist_name'].apply(artist_count).astype(np.int8)"
   ]
  },
  {
   "cell_type": "code",
   "execution_count": 17,
   "metadata": {
    "collapsed": true
   },
   "outputs": [],
   "source": [
    "train['artist_composer'] = (train['artist_name'] == train['composer'].astype(str)).astype(np.int8)\n",
    "test['artist_composer'] = (test['artist_name'] == test['composer'].astype(str)).astype(np.int8)"
   ]
  },
  {
   "cell_type": "code",
   "execution_count": 18,
   "metadata": {
    "collapsed": true
   },
   "outputs": [],
   "source": [
    "# if artist, lyricist and composer are all three same\n",
    "train['artist_composer_lyricist'] = ((train['artist_name'] == train['composer'].astype(str)) \\\n",
    "                                     & (train['artist_name'] == train['lyricist'].astype(str)) & \\\n",
    "                                     (train['composer'] == train['lyricist'].astype(str))).astype(np.int8)\n",
    "test['artist_composer_lyricist'] = ((test['artist_name'] == test['composer'].astype(str)) \\\n",
    "                                    & (test['artist_name'] == test['lyricist'].astype(str)) & \\\n",
    "                                    (test['composer'] == test['lyricist'].astype(str))).astype(np.int8)"
   ]
  },
  {
   "cell_type": "code",
   "execution_count": 19,
   "metadata": {
    "collapsed": true
   },
   "outputs": [],
   "source": [
    "def song_lang_boolean(x):\n",
    "    if '17.0' in str(x) or '45.0' in str(x):\n",
    "        return 1\n",
    "    return 0\n",
    "\n",
    "train['song_lang_boolean'] = train['language'].apply(song_lang_boolean).astype(np.int8)\n",
    "test['song_lang_boolean'] = test['language'].apply(song_lang_boolean).astype(np.int8)"
   ]
  },
  {
   "cell_type": "code",
   "execution_count": 20,
   "metadata": {
    "collapsed": true
   },
   "outputs": [],
   "source": [
    "_mean_song_length = np.mean(train['song_length'])\n",
    "def smaller_song(x):\n",
    "    if x < _mean_song_length:\n",
    "        return 1\n",
    "    return 0\n",
    "\n",
    "train['smaller_song'] = train['song_length'].apply(smaller_song).astype(np.int8)\n",
    "test['smaller_song'] = test['song_length'].apply(smaller_song).astype(np.int8)"
   ]
  },
  {
   "cell_type": "code",
   "execution_count": 21,
   "metadata": {
    "collapsed": true
   },
   "outputs": [],
   "source": [
    "# number of times a song has been played before\n",
    "_dict_count_song_played_train = {k: v for k, v in train['song_id'].value_counts().iteritems()}\n",
    "_dict_count_song_played_test = {k: v for k, v in test['song_id'].value_counts().iteritems()}\n",
    "def count_song_played(x):\n",
    "    try:\n",
    "        return _dict_count_song_played_train[x]\n",
    "    except KeyError:\n",
    "        try:\n",
    "            return _dict_count_song_played_test[x]\n",
    "        except KeyError:\n",
    "            return 0\n",
    "    \n",
    "\n",
    "train['count_song_played'] = train['song_id'].apply(count_song_played).astype(np.int64)\n",
    "test['count_song_played'] = test['song_id'].apply(count_song_played).astype(np.int64)"
   ]
  },
  {
   "cell_type": "code",
   "execution_count": 22,
   "metadata": {},
   "outputs": [
    {
     "name": "stdout",
     "output_type": "stream",
     "text": [
      "Done adding features\n"
     ]
    }
   ],
   "source": [
    "# number of times the artist has been played\n",
    "_dict_count_artist_played_train = {k: v for k, v in train['artist_name'].value_counts().iteritems()}\n",
    "_dict_count_artist_played_test = {k: v for k, v in test['artist_name'].value_counts().iteritems()}\n",
    "def count_artist_played(x):\n",
    "    try:\n",
    "        return _dict_count_artist_played_train[x]\n",
    "    except KeyError:\n",
    "        try:\n",
    "            return _dict_count_artist_played_test[x]\n",
    "        except KeyError:\n",
    "            return 0\n",
    "\n",
    "train['count_artist_played'] = train['artist_name'].apply(count_artist_played).astype(np.int64)\n",
    "test['count_artist_played'] = test['artist_name'].apply(count_artist_played).astype(np.int64)\n",
    "\n",
    "\n",
    "print \"Done adding features\""
   ]
  },
  {
   "cell_type": "code",
   "execution_count": 27,
   "metadata": {
    "collapsed": true
   },
   "outputs": [],
   "source": [
    "import pickle\n",
    "pickle.dump(train, open(data_path + 'train_feature_adding', 'wb'))"
   ]
  },
  {
   "cell_type": "code",
   "execution_count": 28,
   "metadata": {},
   "outputs": [
    {
     "name": "stdout",
     "output_type": "stream",
     "text": [
      "done\n"
     ]
    }
   ],
   "source": [
    "print 'done'"
   ]
  },
  {
   "cell_type": "code",
   "execution_count": 29,
   "metadata": {},
   "outputs": [
    {
     "name": "stdout",
     "output_type": "stream",
     "text": [
      "done\n"
     ]
    }
   ],
   "source": [
    "pickle.dump(test, open(data_path + 'test_feature_adding', 'wb'))\n",
    "print 'done'"
   ]
  },
  {
   "cell_type": "code",
   "execution_count": null,
   "metadata": {
    "collapsed": true
   },
   "outputs": [],
   "source": []
  }
 ],
 "metadata": {
  "kernelspec": {
   "display_name": "Python 3",
   "language": "python",
   "name": "python3"
  },
  "language_info": {
   "codemirror_mode": {
    "name": "ipython",
    "version": 3
   },
   "file_extension": ".py",
   "mimetype": "text/x-python",
   "name": "python",
   "nbconvert_exporter": "python",
   "pygments_lexer": "ipython3",
   "version": "3.6.0"
  }
 },
 "nbformat": 4,
 "nbformat_minor": 2
}
