{
 "cells": [
  {
   "cell_type": "code",
   "execution_count": 1,
   "metadata": {
    "collapsed": true
   },
   "outputs": [],
   "source": [
    "import pickle"
   ]
  },
  {
   "cell_type": "code",
   "execution_count": 2,
   "metadata": {},
   "outputs": [
    {
     "name": "stdout",
     "output_type": "stream",
     "text": [
      "loading done\n"
     ]
    }
   ],
   "source": [
    "data_path = '../data/'\n",
    "test = pickle.load( open(data_path + 'test_feature_myadding1', 'rb'))\n",
    "print 'loading done'"
   ]
  },
  {
   "cell_type": "code",
   "execution_count": 4,
   "metadata": {
    "collapsed": true
   },
   "outputs": [],
   "source": [
    "# data_path = '../data/'\n",
    "# train = pickle.load( open(data_path + 'train_feature_myadding1', 'rb'))\n",
    "# print 'loading done'"
   ]
  },
  {
   "cell_type": "code",
   "execution_count": 4,
   "metadata": {
    "collapsed": true
   },
   "outputs": [],
   "source": [
    "composer_counts = {}\n",
    "for name in train.composer:\n",
    "    composer_counts[name] = composer_counts.get(name, 0) + 1"
   ]
  },
  {
   "cell_type": "code",
   "execution_count": 5,
   "metadata": {
    "collapsed": true
   },
   "outputs": [],
   "source": [
    "artist_counts = {}\n",
    "for name in train.artist_name:\n",
    "    artist_counts[name] = artist_counts.get(name, 0) + 1"
   ]
  },
  {
   "cell_type": "code",
   "execution_count": 13,
   "metadata": {
    "collapsed": true
   },
   "outputs": [],
   "source": [
    "lyricist_counts = {}\n",
    "for name in train.lyricist:\n",
    "    lyricist_counts[name] = lyricist_counts.get(name, 0) + 1"
   ]
  },
  {
   "cell_type": "code",
   "execution_count": 15,
   "metadata": {
    "collapsed": true
   },
   "outputs": [],
   "source": [
    "count_table = sorted(lyricist_counts.items(), key= lambda x : -x[1])"
   ]
  },
  {
   "cell_type": "code",
   "execution_count": 16,
   "metadata": {},
   "outputs": [
    {
     "name": "stdout",
     "output_type": "stream",
     "text": [
      "('\\xe5\\xbe\\x90\\xe8\\xad\\xbd\\xe6\\xbb\\x95', 596)\n"
     ]
    }
   ],
   "source": [
    "print count_table[1000]"
   ]
  },
  {
   "cell_type": "code",
   "execution_count": 6,
   "metadata": {},
   "outputs": [
    {
     "name": "stdout",
     "output_type": "stream",
     "text": [
      "True\n",
      "115325\n"
     ]
    }
   ],
   "source": [
    "print '林俊傑 (JJ Lin)' in artist_counts\n",
    "print artist_counts['林俊傑 (JJ Lin)']"
   ]
  },
  {
   "cell_type": "code",
   "execution_count": 17,
   "metadata": {
    "collapsed": true
   },
   "outputs": [],
   "source": [
    "def get_artist_name(x):\n",
    "    if x not in artist_counts or artist_counts[x] < 1000:\n",
    "        return 'new'\n",
    "    else:\n",
    "        return x\n",
    "def get_composer(x):\n",
    "    if x not in composer_counts or composer_counts[x] < 1000:\n",
    "        return 'new'\n",
    "    else:\n",
    "        return x\n",
    "def get_lyricist(x):\n",
    "    if x not in lyricist_counts or lyricist_counts[x] < 600:\n",
    "        return 'new'\n",
    "    else:\n",
    "        return x"
   ]
  },
  {
   "cell_type": "code",
   "execution_count": 19,
   "metadata": {},
   "outputs": [
    {
     "name": "stdout",
     "output_type": "stream",
     "text": [
      "msno 30755\n",
      "source_system_tab 8\n",
      "source_screen_name 20\n",
      "source_type 12\n",
      "genre_ids 573\n",
      "artist_name 872\n",
      "composer 911\n",
      "lyricist 998\n",
      "language 10\n",
      "city 21\n",
      "gender 2\n",
      "registered_via 5\n",
      "song_country 110\n"
     ]
    }
   ],
   "source": [
    "for x in train.head(0):\n",
    "    if train[x].dtype.name == 'category':\n",
    "        print x, train[x].nunique()\n",
    "    if train[x].dtype == 'object':\n",
    "        print x, train[x].nunique()"
   ]
  },
  {
   "cell_type": "code",
   "execution_count": 9,
   "metadata": {
    "collapsed": true
   },
   "outputs": [],
   "source": [
    "train.composer = train.composer.apply(lambda x : get_composer(x))\n",
    "test.composer = test.composer.apply(lambda x : get_composer(x))"
   ]
  },
  {
   "cell_type": "code",
   "execution_count": 11,
   "metadata": {
    "collapsed": true
   },
   "outputs": [],
   "source": [
    "train.artist_name = train.artist_name.apply(lambda x : get_artist_name(x))\n",
    "test.artist_name = test.artist_name.apply(lambda x : get_artist_name(x))"
   ]
  },
  {
   "cell_type": "code",
   "execution_count": 18,
   "metadata": {
    "collapsed": true
   },
   "outputs": [],
   "source": [
    "train.lyricist = train.lyricist.apply(lambda x : get_lyricist(x))\n",
    "test.lyricist = test.lyricist.apply(lambda x : get_lyricist(x))"
   ]
  },
  {
   "cell_type": "code",
   "execution_count": 21,
   "metadata": {},
   "outputs": [
    {
     "name": "stdout",
     "output_type": "stream",
     "text": [
      "loading done\n"
     ]
    }
   ],
   "source": [
    "# data_path = '../data/'\n",
    "# pickle.dump(test, open(data_path + 'test_feature_myadding1_reduceDim', 'wb'))\n",
    "# print 'writing done'"
   ]
  },
  {
   "cell_type": "code",
   "execution_count": 22,
   "metadata": {},
   "outputs": [
    {
     "name": "stdout",
     "output_type": "stream",
     "text": [
      "loading done\n"
     ]
    }
   ],
   "source": [
    "# data_path = '../data/'\n",
    "# pickle.dump(train, open(data_path + 'train_feature_myadding1_reduceDim', 'wb'))\n",
    "# print 'writing done'"
   ]
  },
  {
   "cell_type": "code",
   "execution_count": 25,
   "metadata": {},
   "outputs": [
    {
     "name": "stdout",
     "output_type": "stream",
     "text": [
      "    msno  song_id source_system_tab   source_screen_name      source_type  \\\n",
      "0  20479   135901           explore              Explore  online-playlist   \n",
      "1   4676   257686        my library  Local playlist more   local-playlist   \n",
      "2   4676   273457        my library  Local playlist more   local-playlist   \n",
      "3   4676    49669        my library  Local playlist more   local-playlist   \n",
      "4  20479    39092           explore              Explore  online-playlist   \n",
      "\n",
      "   target  song_length genre_ids      artist_name     composer     ...       \\\n",
      "0       1       206471       359         Bastille          new     ...        \n",
      "1       1       284584      1259  Various Artists  no_composer     ...        \n",
      "2       1       225396      1259              new          new     ...        \n",
      "3       1       255512      1019              new          new     ...        \n",
      "4       1       187802      1011              new          new     ...        \n",
      "\n",
      "  is_featured artist_count artist_composer  artist_composer_lyricist  \\\n",
      "0           0            0               0                         0   \n",
      "1           0            0               0                         0   \n",
      "2           0            0               0                         0   \n",
      "3           0            0               0                         0   \n",
      "4           0            0               0                         0   \n",
      "\n",
      "  song_lang_boolean smaller_song  count_song_played  count_artist_played  \\\n",
      "0                 0            1                215                 1140   \n",
      "1                 0            0                  1               303616   \n",
      "2                 0            1                  4                  289   \n",
      "3                 0            0                  1                    1   \n",
      "4                 0            1                412                  427   \n",
      "\n",
      "   song_country  song_year_y  \n",
      "0            GB       2016.0  \n",
      "1            US       1999.0  \n",
      "2            US       2006.0  \n",
      "3            GB       2010.0  \n",
      "4            QM       2016.0  \n",
      "\n",
      "[5 rows x 37 columns]\n"
     ]
    }
   ],
   "source": [
    "print train.head()"
   ]
  },
  {
   "cell_type": "code",
   "execution_count": null,
   "metadata": {
    "collapsed": true
   },
   "outputs": [],
   "source": []
  }
 ],
 "metadata": {
  "kernelspec": {
   "display_name": "Python 2",
   "language": "python",
   "name": "python2"
  },
  "language_info": {
   "codemirror_mode": {
    "name": "ipython",
    "version": 2
   },
   "file_extension": ".py",
   "mimetype": "text/x-python",
   "name": "python",
   "nbconvert_exporter": "python",
   "pygments_lexer": "ipython2",
   "version": "2.7.13"
  }
 },
 "nbformat": 4,
 "nbformat_minor": 2
}
