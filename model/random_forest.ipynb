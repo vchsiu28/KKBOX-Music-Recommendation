{
 "cells": [
  {
   "cell_type": "code",
   "execution_count": 1,
   "metadata": {
    "collapsed": true
   },
   "outputs": [],
   "source": [
    "import numpy as np\n",
    "import matplotlib.pyplot as plt\n",
    "\n",
    "from sklearn.datasets import make_classification\n",
    "from sklearn.ensemble import ExtraTreesClassifier\n",
    "import pickle\n",
    "import pandas as pd\n",
    "\n",
    "# Build a forest and compute the feature importances\n",
    "forest = ExtraTreesClassifier(n_estimators=250,\n",
    "                              random_state=0)"
   ]
  },
  {
   "cell_type": "code",
   "execution_count": 2,
   "metadata": {},
   "outputs": [
    {
     "name": "stdout",
     "output_type": "stream",
     "text": [
      "loading done\n"
     ]
    }
   ],
   "source": [
    "data_path = '../data/'\n",
    "#test = pickle.load( open(data_path + 'test_feature_myadding', 'rb'))\n",
    "test = pickle.load( open(data_path + 'test_feature_myadding1_reduceDim', 'rb'))\n",
    "print 'loading done'"
   ]
  },
  {
   "cell_type": "code",
   "execution_count": 3,
   "metadata": {},
   "outputs": [
    {
     "name": "stdout",
     "output_type": "stream",
     "text": [
      "loading done\n"
     ]
    }
   ],
   "source": [
    "data_path = '../data/'\n",
    "train = pickle.load( open(data_path + 'train_feature_myadding1_reduceDim', 'rb'))\n",
    "#train = pickle.load( open(data_path + 'train_feature_myadding', 'rb'))\n",
    "print 'loading done'"
   ]
  },
  {
   "cell_type": "code",
   "execution_count": 4,
   "metadata": {
    "collapsed": true
   },
   "outputs": [],
   "source": [
    "# train['song_country'] = train['song_country'].astype('category')\n",
    "# test['song_country'] = test['song_country'].astype('category')\n",
    "# train['artist_name'] = train['artist_name'].astype('category')\n",
    "# test['artist_name'] = test['artist_name'].astype('category')\n",
    "# train['composer'] = train['composer'].astype('category')\n",
    "# test['composer'] = test['composer'].astype('category')\n",
    "# train['lyricist'] = train['lyricist'].astype('category')\n",
    "# test['lyricist'] = test['lyricist'].astype('category')"
   ]
  },
  {
   "cell_type": "code",
   "execution_count": 5,
   "metadata": {
    "collapsed": true
   },
   "outputs": [],
   "source": [
    "# train = train.drop(['song_year_x'], axis=1)\n",
    "# test = test.drop(['song_year_x'], axis=1)"
   ]
  },
  {
   "cell_type": "code",
   "execution_count": 6,
   "metadata": {
    "collapsed": true
   },
   "outputs": [],
   "source": [
    "# pickle.dump(train, open(data_path + 'train_feature_myadding1_reduceDim', 'wb'))\n",
    "# pickle.dump(test, open(data_path + 'test_feature_myadding1_reduceDim', 'wb'))\n",
    "# print 'loading done'"
   ]
  },
  {
   "cell_type": "code",
   "execution_count": 8,
   "metadata": {},
   "outputs": [
    {
     "name": "stdout",
     "output_type": "stream",
     "text": [
      "done\n"
     ]
    }
   ],
   "source": [
    "train['song_year_y'].replace([np.inf, -np.inf], np.nan)\n",
    "test['song_year_y'].replace([np.inf, -np.inf], np.nan)\n",
    "print 'done'"
   ]
  },
  {
   "cell_type": "code",
   "execution_count": 10,
   "metadata": {},
   "outputs": [
    {
     "name": "stdout",
     "output_type": "stream",
     "text": [
      "4184145\n"
     ]
    }
   ],
   "source": [
    "train = train.dropna(axis=0, how='any')\n",
    "print len(train)"
   ]
  },
  {
   "cell_type": "code",
   "execution_count": 11,
   "metadata": {},
   "outputs": [
    {
     "name": "stdout",
     "output_type": "stream",
     "text": [
      "msno\n",
      "source_system_tab\n",
      "source_screen_name\n",
      "source_type\n",
      "genre_ids\n",
      "artist_name\n",
      "composer\n",
      "lyricist\n",
      "language\n",
      "city\n",
      "gender\n",
      "registered_via\n",
      "song_country\n"
     ]
    }
   ],
   "source": [
    "# Preprocess dataset\n",
    "cols = list(train.columns)\n",
    "cols.remove('target')\n",
    "for col in cols:\n",
    "    if train[col].dtype.name == 'category':\n",
    "        train[col] = train[col].cat.codes\n",
    "        print(col)"
   ]
  },
  {
   "cell_type": "code",
   "execution_count": 12,
   "metadata": {},
   "outputs": [
    {
     "name": "stdout",
     "output_type": "stream",
     "text": [
      "msno                          int16\n",
      "song_id                       int64\n",
      "source_system_tab              int8\n",
      "source_screen_name             int8\n",
      "source_type                    int8\n",
      "target                        uint8\n",
      "song_length                  uint32\n",
      "genre_ids                     int16\n",
      "artist_name                   int16\n",
      "composer                      int16\n",
      "lyricist                      int16\n",
      "language                       int8\n",
      "city                           int8\n",
      "bd                            uint8\n",
      "gender                         int8\n",
      "registered_via                 int8\n",
      "expiration_date               int64\n",
      "registration_year             int64\n",
      "registration_month            int64\n",
      "registration_date             int64\n",
      "expiration_year               int64\n",
      "expiration_month              int64\n",
      "membership_days               int64\n",
      "genre_ids_count                int8\n",
      "lyricists_count                int8\n",
      "composer_count                 int8\n",
      "is_featured                    int8\n",
      "artist_count                   int8\n",
      "artist_composer                int8\n",
      "artist_composer_lyricist       int8\n",
      "song_lang_boolean              int8\n",
      "smaller_song                   int8\n",
      "count_song_played             int64\n",
      "count_artist_played           int64\n",
      "song_country                   int8\n",
      "song_year_y                 float64\n",
      "dtype: object\n"
     ]
    }
   ],
   "source": [
    "print train.dtypes"
   ]
  },
  {
   "cell_type": "code",
   "execution_count": 13,
   "metadata": {
    "collapsed": true
   },
   "outputs": [],
   "source": [
    "# train.fillna(-1)\n",
    "# test.fillna(-1)\n",
    "# print 'xx'\n",
    "# print np.any(np.isnan(train))"
   ]
  },
  {
   "cell_type": "code",
   "execution_count": 14,
   "metadata": {
    "collapsed": true
   },
   "outputs": [],
   "source": [
    "# train = train.fillna(lambda x: x.median())\n",
    "# print train.isnull().any()\n",
    "# print test.isnull().any()\n",
    "# test = test.fillna(lambda x: x.median())\n",
    "# print test.isnull().any()"
   ]
  },
  {
   "cell_type": "code",
   "execution_count": 15,
   "metadata": {
    "collapsed": true
   },
   "outputs": [],
   "source": [
    "# #print train.dtypes\n",
    "# train['lyricist'].fillna('no_lyricist',inplace=True)\n",
    "# # print np.any(np.isnan(train))"
   ]
  },
  {
   "cell_type": "code",
   "execution_count": 16,
   "metadata": {},
   "outputs": [
    {
     "name": "stdout",
     "output_type": "stream",
     "text": [
      "4184145 <class 'pandas.core.frame.DataFrame'>\n"
     ]
    }
   ],
   "source": [
    "print len(train), type(train)\n",
    "train1 = train.sample(frac=0.4, replace=False)"
   ]
  },
  {
   "cell_type": "code",
   "execution_count": 17,
   "metadata": {},
   "outputs": [
    {
     "name": "stdout",
     "output_type": "stream",
     "text": [
      "Train test and validation sets\n",
      "done\n"
     ]
    }
   ],
   "source": [
    "print (\"Train test and validation sets\")\n",
    "X = np.array(train1.drop(['target'], axis=1))\n",
    "y = train1['target'].values\n",
    "print 'done'"
   ]
  },
  {
   "cell_type": "code",
   "execution_count": 18,
   "metadata": {},
   "outputs": [
    {
     "name": "stdout",
     "output_type": "stream",
     "text": [
      "done\n",
      "done\n",
      "Feature ranking:\n",
      "1. feature 0 (0.168541)\n",
      "2. feature 12 (0.149557)\n",
      "3. feature 11 (0.113693)\n",
      "4. feature 31 (0.066347)\n",
      "5. feature 14 (0.045468)\n",
      "6. feature 1 (0.043223)\n",
      "7. feature 5 (0.043053)\n",
      "8. feature 4 (0.042272)\n",
      "9. feature 3 (0.041616)\n",
      "10. feature 2 (0.036030)\n",
      "11. feature 32 (0.034552)\n",
      "12. feature 34 (0.034388)\n",
      "13. feature 7 (0.026881)\n",
      "14. feature 8 (0.022600)\n",
      "15. feature 13 (0.021152)\n",
      "16. feature 6 (0.020524)\n",
      "17. feature 9 (0.019388)\n",
      "18. feature 24 (0.016025)\n",
      "19. feature 33 (0.014528)\n",
      "20. feature 23 (0.011909)\n",
      "21. feature 10 (0.009259)\n",
      "22. feature 30 (0.007463)\n",
      "23. feature 22 (0.004556)\n",
      "24. feature 26 (0.003294)\n",
      "25. feature 27 (0.001575)\n",
      "26. feature 29 (0.001187)\n",
      "27. feature 28 (0.000676)\n",
      "28. feature 25 (0.000242)\n",
      "29. feature 21 (0.000000)\n",
      "30. feature 15 (0.000000)\n",
      "31. feature 16 (0.000000)\n",
      "32. feature 18 (0.000000)\n",
      "33. feature 19 (0.000000)\n",
      "34. feature 20 (0.000000)\n",
      "35. feature 17 (0.000000)\n"
     ]
    },
    {
     "data": {
      "image/png": "[encoded data removed]",
      "text/plain": [
       "<matplotlib.figure.Figure at 0x7f1286e7e6d0>"
      ]
     },
     "metadata": {},
     "output_type": "display_data"
    }
   ],
   "source": [
    "forest.fit(X, y)\n",
    "importances = forest.feature_importances_\n",
    "print 'done'\n",
    "std = np.std([tree.feature_importances_ for tree in forest.estimators_],\n",
    "             axis=0)\n",
    "indices = np.argsort(importances)[::-1]\n",
    "print 'done'\n",
    "# Print the feature ranking\n",
    "print(\"Feature ranking:\")\n",
    "\n",
    "for f in range(X.shape[1]):\n",
    "    print(\"%d. feature %d (%f)\" % (f + 1, indices[f], importances[indices[f]]))\n",
    "\n",
    "# Plot the feature importances of the forest\n",
    "plt.figure()\n",
    "plt.title(\"Feature importances\")\n",
    "plt.bar(range(X.shape[1]), importances[indices],\n",
    "       color=\"r\", yerr=std[indices], align=\"center\")\n",
    "plt.xticks(range(X.shape[1]), indices)\n",
    "plt.xlim([-1, X.shape[1]])\n",
    "plt.show()"
   ]
  },
  {
   "cell_type": "code",
   "execution_count": null,
   "metadata": {
    "collapsed": true
   },
   "outputs": [],
   "source": []
  },
  {
   "cell_type": "code",
   "execution_count": 19,
   "metadata": {},
   "outputs": [
    {
     "data": {
      "text/plain": [
       "False"
      ]
     },
     "execution_count": 19,
     "metadata": {},
     "output_type": "execute_result"
    }
   ],
   "source": [
    "np.any(np.isnan(train))"
   ]
  },
  {
   "cell_type": "code",
   "execution_count": 30,
   "metadata": {},
   "outputs": [
    {
     "name": "stdout",
     "output_type": "stream",
     "text": [
      "1. msno (0.168541)\n",
      "2. song_id (0.149557)\n",
      "3. source_system_tab (0.113693)\n",
      "4. source_screen_name (0.066347)\n",
      "5. source_type (0.045468)\n",
      "6. target (0.043223)\n",
      "7. song_length (0.043053)\n",
      "8. genre_ids (0.042272)\n",
      "9. artist_name (0.041616)\n",
      "10. composer (0.036030)\n",
      "11. lyricist (0.034552)\n",
      "12. language (0.034388)\n",
      "13. city (0.026881)\n",
      "14. bd (0.022600)\n",
      "15. gender (0.021152)\n",
      "16. registered_via (0.020524)\n",
      "17. expiration_date (0.019388)\n",
      "18. registration_year (0.016025)\n",
      "19. registration_month (0.014528)\n",
      "20. registration_date (0.011909)\n",
      "21. expiration_year (0.009259)\n",
      "22. expiration_month (0.007463)\n",
      "23. membership_days (0.004556)\n",
      "24. genre_ids_count (0.003294)\n",
      "25. lyricists_count (0.001575)\n",
      "26. composer_count (0.001187)\n",
      "27. is_featured (0.000676)\n",
      "28. artist_count (0.000242)\n",
      "29. artist_composer (0.000000)\n",
      "30. artist_composer_lyricist (0.000000)\n",
      "31. song_lang_boolean (0.000000)\n",
      "32. smaller_song (0.000000)\n",
      "33. count_song_played (0.000000)\n",
      "34. count_artist_played (0.000000)\n",
      "35. song_country (0.000000)\n"
     ]
    },
    {
     "data": {
      "image/png": "[encoded data removed]",
      "text/plain": [
       "<matplotlib.figure.Figure at 0x7f127f798f90>"
      ]
     },
     "metadata": {},
     "output_type": "display_data"
    }
   ],
   "source": [
    "for f in range(X.shape[1]):\n",
    "    print(\"%d. %s (%f)\" % (f+1, train1.columns[f], importances[indices[f]]))\n",
    "\n",
    "# Plot the feature importances of the forest\n",
    "plt.figure()\n",
    "plt.title(\"Feature importances\")\n",
    "plt.bar(range(X.shape[1]), importances[indices],\n",
    "       color=\"r\", yerr=std[indices], align=\"center\")\n",
    "plt.xticks(range(X.shape[1]), indices)\n",
    "plt.xlim([-1, X.shape[1]])\n",
    "plt.show()"
   ]
  },
  {
   "cell_type": "code",
   "execution_count": 28,
   "metadata": {},
   "outputs": [
    {
     "name": "stdout",
     "output_type": "stream",
     "text": [
      "msno\n"
     ]
    }
   ],
   "source": [
    "print train1.columns[0]"
   ]
  },
  {
   "cell_type": "code",
   "execution_count": null,
   "metadata": {
    "collapsed": true
   },
   "outputs": [],
   "source": [
    "# 1. msno (0.168541)\n",
    "# 2. song_id (0.149557)\n",
    "# 3. source_system_tab (0.113693)\n",
    "# 4. source_screen_name (0.066347)\n",
    "# 5. source_type (0.045468)\n",
    "# 6. target (0.043223)\n",
    "# 7. song_length (0.043053)\n",
    "# 8. genre_ids (0.042272)\n",
    "# 9. artist_name (0.041616)\n",
    "# 10. composer (0.036030)\n",
    "# 11. lyricist (0.034552)\n",
    "# 12. language (0.034388)\n",
    "# 13. city (0.026881)\n",
    "# 14. bd (0.022600)\n",
    "# 15. gender (0.021152)\n",
    "# 16. registered_via (0.020524)\n",
    "# 17. expiration_date (0.019388)\n",
    "# 18. registration_year (0.016025)\n",
    "# 19. registration_month (0.014528)\n",
    "# 20. registration_date (0.011909)\n",
    "# 21. expiration_year (0.009259)\n",
    "# 22. expiration_month (0.007463)\n",
    "# 23. membership_days (0.004556)\n",
    "# 24. genre_ids_count (0.003294)\n",
    "# 25. lyricists_count (0.001575)\n",
    "# 26. composer_count (0.001187)\n",
    "# 27. is_featured (0.000676)\n",
    "# 28. artist_count (0.000242)\n",
    "# 29. artist_composer (0.000000)\n",
    "# 30. artist_composer_lyricist (0.000000)\n",
    "# 31. song_lang_boolean (0.000000)\n",
    "# 32. smaller_song (0.000000)\n",
    "# 33. count_song_played (0.000000)\n",
    "# 34. count_artist_played (0.000000)\n",
    "# 35. song_country (0.000000)"
   ]
  }
 ],
 "metadata": {
  "kernelspec": {
   "display_name": "Python 2",
   "language": "python",
   "name": "python2"
  },
  "language_info": {
   "codemirror_mode": {
    "name": "ipython",
    "version": 2
   },
   "file_extension": ".py",
   "mimetype": "text/x-python",
   "name": "python",
   "nbconvert_exporter": "python",
   "pygments_lexer": "ipython2",
   "version": "2.7.13"
  }
 },
 "nbformat": 4,
 "nbformat_minor": 2
}
